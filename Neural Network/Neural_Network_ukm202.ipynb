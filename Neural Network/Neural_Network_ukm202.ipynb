{
  "nbformat": 4,
  "nbformat_minor": 0,
  "metadata": {
    "kernelspec": {
      "display_name": "Python 3",
      "language": "python",
      "name": "python3"
    },
    "language_info": {
      "codemirror_mode": {
        "name": "ipython",
        "version": 3
      },
      "file_extension": ".py",
      "mimetype": "text/x-python",
      "name": "python",
      "nbconvert_exporter": "python",
      "pygments_lexer": "ipython3",
      "version": "3.7.6"
    },
    "colab": {
      "name": "Neural_Network_ukm202.ipynb",
      "provenance": [],
      "collapsed_sections": []
    }
  },
  "cells": [
    {
      "cell_type": "markdown",
      "metadata": {
        "id": "US-JSyoyk4n3"
      },
      "source": [
        "# Neural Network from Scratch\n"
      ]
    },
    {
      "cell_type": "markdown",
      "metadata": {
        "id": "HPoHqZf-k4n6"
      },
      "source": [
        "## Import libraries\n",
        "\n",
        "We will be using the lower resolution MINST data set"
      ]
    },
    {
      "cell_type": "code",
      "metadata": {
        "id": "GHy3YKZ_k4n7"
      },
      "source": [
        "from sklearn.datasets import load_digits # The MNIST data set is in scikit learn data set\n",
        "from sklearn.preprocessing import StandardScaler  # It is important in neural networks to scale the date\n",
        "from sklearn.model_selection import train_test_split  # The standard - train/test to prevent overfitting and choose hyperparameters\n",
        "from sklearn.metrics import accuracy_score # \n",
        "import numpy as np\n",
        "import numpy.random as r # We will randomly initialize our weights\n",
        "import matplotlib.pyplot as plt "
      ],
      "execution_count": 90,
      "outputs": []
    },
    {
      "cell_type": "markdown",
      "metadata": {
        "id": "VV8InsI5k4n7"
      },
      "source": [
        "## Looking at the data\n",
        "\n",
        "After we load the data, we print the shape of the data and a pixelated digit.\n",
        "\n",
        "We also show what the features of one example looks like.\n",
        "\n",
        "The neural net will learn to estimate which digit these pixels represent."
      ]
    },
    {
      "cell_type": "code",
      "metadata": {
        "id": "EB7Zh3oBk4n7",
        "colab": {
          "base_uri": "https://localhost:8080/",
          "height": 462
        },
        "outputId": "e17cad1e-33a2-4a1d-8ba8-408384876be0"
      },
      "source": [
        "# load all the digits (img)\n",
        "digits = load_digits()\n",
        "\n",
        "# load the data from the digit (img)\n",
        "X = digits.data\n",
        "y = digits.target\n",
        "# print(X)\n",
        "# print(y)\n",
        "print(\"The shape of the digits dataset:\") \n",
        "print(digits.data.shape)\n",
        "# plot the digits\n",
        "# using .gray()\n",
        "# and .matshow() with argument digit.images[xx]\n",
        "plt.figure(1, figsize=(6,4))\n",
        "plt.matshow(digits.images[0], cmap='gray')\n",
        "\n",
        "# plt.show()\n",
        "plt.show()\n",
        "\n",
        "# get the gt for this digit img\n",
        "print(y[0:1],\"\\n\")\n",
        "print(\"Before Scaling: \\n\")\n",
        "\n",
        "print(X[0,:])"
      ],
      "execution_count": 91,
      "outputs": [
        {
          "output_type": "stream",
          "text": [
            "The shape of the digits dataset:\n",
            "(1797, 64)\n"
          ],
          "name": "stdout"
        },
        {
          "output_type": "display_data",
          "data": {
            "text/plain": [
              "<Figure size 432x288 with 0 Axes>"
            ]
          },
          "metadata": {
            "tags": []
          }
        },
        {
          "output_type": "display_data",
          "data": {
            "image/png": "[encoded data removed]",
            "text/plain": [
              "<Figure size 288x288 with 1 Axes>"
            ]
          },
          "metadata": {
            "tags": [],
            "needs_background": "light"
          }
        },
        {
          "output_type": "stream",
          "text": [
            "[0] \n",
            "\n",
            "Before Scaling: \n",
            "\n",
            "[ 0.  0.  5. 13.  9.  1.  0.  0.  0.  0. 13. 15. 10. 15.  5.  0.  0.  3.\n",
            " 15.  2.  0. 11.  8.  0.  0.  4. 12.  0.  0.  8.  8.  0.  0.  5.  8.  0.\n",
            "  0.  9.  8.  0.  0.  4. 11.  0.  1. 12.  7.  0.  0.  2. 14.  5. 10. 12.\n",
            "  0.  0.  0.  0.  6. 13. 10.  0.  0.  0.]\n"
          ],
          "name": "stdout"
        }
      ]
    },
    {
      "cell_type": "markdown",
      "metadata": {
        "id": "zC_nyVnLk4n8"
      },
      "source": [
        "## 1) Scale the dataset\n",
        "The training features range from 0 to 15.  To help the algorithm converge, we will scale the data to have a mean of 0 and unit variance"
      ]
    },
    {
      "cell_type": "code",
      "metadata": {
        "id": "HlXoHBGUk4n8",
        "colab": {
          "base_uri": "https://localhost:8080/"
        },
        "outputId": "fc983f80-1401-4ff6-a47b-94d7a3780672"
      },
      "source": [
        "# use the stander lib to scale the data\n",
        "# init the scaler \n",
        "X_scale = StandardScaler()\n",
        "# fit the data to the scaler \n",
        "X = X_scale.fit_transform(digits.data)\n",
        "y = digits.target\n",
        "\n",
        "# Looking the new features after scaling\n",
        "print(\"After Scaling: \\n\")\n",
        "print(X[0,:])\n"
      ],
      "execution_count": 92,
      "outputs": [
        {
          "output_type": "stream",
          "text": [
            "After Scaling: \n",
            "\n",
            "[ 0.         -0.33501649 -0.04308102  0.27407152 -0.66447751 -0.84412939\n",
            " -0.40972392 -0.12502292 -0.05907756 -0.62400926  0.4829745   0.75962245\n",
            " -0.05842586  1.12772113  0.87958306 -0.13043338 -0.04462507  0.11144272\n",
            "  0.89588044 -0.86066632 -1.14964846  0.51547187  1.90596347 -0.11422184\n",
            " -0.03337973  0.48648928  0.46988512 -1.49990136 -1.61406277  0.07639777\n",
            "  1.54181413 -0.04723238  0.          0.76465553  0.05263019 -1.44763006\n",
            " -1.73666443  0.04361588  1.43955804  0.         -0.06134367  0.8105536\n",
            "  0.63011714 -1.12245711 -1.06623158  0.66096475  0.81845076 -0.08874162\n",
            " -0.03543326  0.74211893  1.15065212 -0.86867056  0.11012973  0.53761116\n",
            " -0.75743581 -0.20978513 -0.02359646 -0.29908135  0.08671869  0.20829258\n",
            " -0.36677122 -1.14664746 -0.5056698  -0.19600752]\n"
          ],
          "name": "stdout"
        }
      ]
    },
    {
      "cell_type": "markdown",
      "metadata": {
        "id": "hiNzdtOVk4n8"
      },
      "source": [
        "## 2) Creating training and test datasets\n",
        "We split the data into training and test data sets. We will train the neural network with the training dataset, and evaluate our neural network with the test dataset "
      ]
    },
    {
      "cell_type": "code",
      "metadata": {
        "id": "WfYS3-ihk4n8"
      },
      "source": [
        "#Split the data into training and test set.  60% training and %40 test\n",
        "X_train, X_test, y_train, y_test = train_test_split(X,y,test_size=0.4)"
      ],
      "execution_count": 93,
      "outputs": []
    },
    {
      "cell_type": "markdown",
      "metadata": {
        "id": "mnBbKfNtk4n8"
      },
      "source": [
        "## 3) Setting up the output layer"
      ]
    },
    {
      "cell_type": "markdown",
      "metadata": {
        "id": "C41NWLr3k4n9"
      },
      "source": [
        "### One hot encoding"
      ]
    },
    {
      "cell_type": "code",
      "metadata": {
        "id": "IgdIpZjEk4n9",
        "colab": {
          "base_uri": "https://localhost:8080/"
        },
        "outputId": "cd837106-3606-4a01-d082-648300697b53"
      },
      "source": [
        "def convert_y_to_vect(y):\n",
        "#     Our target is an integer in the range [0,..,9], so we will have 10 output neuron's in our network.  \n",
        "\n",
        "#     If  y=0 we want the output neurons to have the values (1,0,0,0,0,0,0,0,0,0)\n",
        "#     If  y=1 we want the output neurons to have the values (0,1,0,0,0,0,0,0,0,0)\n",
        "#     etc\n",
        "\n",
        "#     Thus we need to change our target so it is the same as our hoped for output of the neural network. \n",
        "\n",
        "#     If y=0$we change it into the vector (1,0,0,0,0,0,0,0,0,0)\n",
        "#     If y=1 we change it into the vector (0,1,0,0,0,0,0,0,0,0)\n",
        "#     etc\n",
        "\n",
        "#     The code to covert the target vector.\n",
        "\n",
        "    y_vector = np.zeros((len(y),10))\n",
        "    # print(y_vector)\n",
        "\n",
        "    for i in range(len(y)):\n",
        "      y_vector[i,y[i]]= 1\n",
        "    return y_vector\n",
        "\n",
        "y_vector = convert_y_to_vect(y)\n",
        "print(y_vector)\n",
        "# print(y)"
      ],
      "execution_count": 94,
      "outputs": [
        {
          "output_type": "stream",
          "text": [
            "[[1. 0. 0. ... 0. 0. 0.]\n",
            " [0. 1. 0. ... 0. 0. 0.]\n",
            " [0. 0. 1. ... 0. 0. 0.]\n",
            " ...\n",
            " [0. 0. 0. ... 0. 1. 0.]\n",
            " [0. 0. 0. ... 0. 0. 1.]\n",
            " [0. 0. 0. ... 0. 1. 0.]]\n"
          ],
          "name": "stdout"
        }
      ]
    },
    {
      "cell_type": "markdown",
      "metadata": {
        "id": "wl-wNXExk4n9"
      },
      "source": [
        "Converting the training and test targets to vectors "
      ]
    },
    {
      "cell_type": "code",
      "metadata": {
        "id": "JRULJhwzk4n9"
      },
      "source": [
        "# convert digits to vectors using the func above\n",
        "# apply this to both train and test splits\n",
        "y_v_train = convert_y_to_vect(y_train)\n",
        "y_v_test = convert_y_to_vect(y_test)\n",
        "\n",
        "\n"
      ],
      "execution_count": 95,
      "outputs": []
    },
    {
      "cell_type": "markdown",
      "metadata": {
        "id": "QsC-niDbk4n9"
      },
      "source": [
        "A quick check to see that our code performs as we expect "
      ]
    },
    {
      "cell_type": "code",
      "metadata": {
        "id": "sEX5xN5ok4n9",
        "colab": {
          "base_uri": "https://localhost:8080/"
        },
        "outputId": "bbe0ae9e-5b18-46a0-fc4f-d1f256acdf11"
      },
      "source": [
        "print(y_train[0:4])\n",
        "print(y_v_train[0:4])"
      ],
      "execution_count": 96,
      "outputs": [
        {
          "output_type": "stream",
          "text": [
            "[9 6 1 0]\n",
            "[[0. 0. 0. 0. 0. 0. 0. 0. 0. 1.]\n",
            " [0. 0. 0. 0. 0. 0. 1. 0. 0. 0.]\n",
            " [0. 1. 0. 0. 0. 0. 0. 0. 0. 0.]\n",
            " [1. 0. 0. 0. 0. 0. 0. 0. 0. 0.]]\n"
          ],
          "name": "stdout"
        }
      ]
    },
    {
      "cell_type": "markdown",
      "metadata": {
        "id": "tsjaZO7Rk4n9"
      },
      "source": [
        "## 4) Creating the neural network"
      ]
    },
    {
      "cell_type": "markdown",
      "metadata": {
        "id": "69bbtgh3k4n9"
      },
      "source": [
        "### The activation function and its derivative"
      ]
    },
    {
      "cell_type": "code",
      "metadata": {
        "id": "_VXCcjRfk4n9"
      },
      "source": [
        "# We will use the sigmoid activation function:  f(z)={1}/{1+e^{-z}}\n",
        "def f(z):\n",
        "    return 1/(1 + np.exp(-z))\n",
        "\n",
        "# The deriviative of the sigmoid function is: $f'(z) = f(z)(1-f(z))$ \n",
        "def f_deriv(z):\n",
        "    return f(z) * (1 - f(z))"
      ],
      "execution_count": 97,
      "outputs": []
    },
    {
      "cell_type": "code",
      "metadata": {
        "id": "7bPUPX3dAmkz"
      },
      "source": [
        "# # tanh function activation function\n",
        "# def f(z):\n",
        "#     return (2/(1 + np.exp(-2*z))) - 1\n",
        "\n",
        "# # The deriviative of the tanh function  \n",
        "# def f_deriv(z):\n",
        "#     return ((4 * np.exp(-2 * z))/(np.exp(-2*z) + 1)**2)"
      ],
      "execution_count": 98,
      "outputs": []
    },
    {
      "cell_type": "code",
      "metadata": {
        "id": "_al3wf5QCt4i"
      },
      "source": [
        "# # ReLU activation function\n",
        "# def f(z):\n",
        "#   return z * (z > 0)\n",
        "\n",
        "# # # The deriviative of the ReLu function  \n",
        "# def f_deriv(z):\n",
        "#   return 1. * (z > 0)\n",
        "#     "
      ],
      "execution_count": 99,
      "outputs": []
    },
    {
      "cell_type": "markdown",
      "metadata": {
        "id": "A6smwvCkk4n-"
      },
      "source": [
        "### Creating and initialing W and b\n"
      ]
    },
    {
      "cell_type": "code",
      "metadata": {
        "id": "6gj4GZeok4n-"
      },
      "source": [
        "def setup_and_init_weights(nn_structure):\n",
        "    # The weights in W are different so that during back propagation the nodes on a level will have different gradients and thus have different update values.\n",
        "    #creating a dictionary for wiehgts i.e. a set of key: value pairs\n",
        "    weights = {}\n",
        "    #creating a dictionary for bias i.e. a set of key: value pairs\n",
        "    bias = {}\n",
        "\n",
        "    for i in range(1, len(nn_structure)):\n",
        "        # We want the weights to be small values, since the sigmoid is almost \"flat\" for large inputs.\n",
        "        # Next is the code that assigns each weight a number uniformly drawn from $[0.0, 1.0)$.  \n",
        "        # The code assumes that the number of neurons in each level is in the python list *nn_structure*.\n",
        "        # .random_sample return “continuous uniform” random floats in the half-open interval [0.0, 1.0). \n",
        "        weights[i] = r.random_sample((nn_structure[i],nn_structure[i-1]))\n",
        "        bias[i] = r.random_sample((nn_structure[i],))\n",
        "\n",
        "        \n",
        "    # Return weight and b\n",
        "    return weights, bias"
      ],
      "execution_count": 100,
      "outputs": []
    },
    {
      "cell_type": "markdown",
      "metadata": {
        "id": "e4c_rI-Ck4n-"
      },
      "source": [
        "### Initializing $\\triangledown W$ and $\\triangledown b$\n"
      ]
    },
    {
      "cell_type": "code",
      "metadata": {
        "id": "bbjnWVQrk4n-"
      },
      "source": [
        "def init_tri_values(nn_structure):\n",
        "    # Creating dlt_W and dlt_b to have the same size as W and b,and init the dlt_W, and dlt_b to 0\n",
        "    dlt_W = {}\n",
        "    dlt_b = {}    \n",
        "    \n",
        "    # use for loop to init the dlt W and dlt b\n",
        "    # you can use np.zeros\n",
        "    for i in range(1, len(nn_structure)):\n",
        "      dlt_W[i] = np.zeros((nn_structure[i],nn_structure[i-1]))\n",
        "      dlt_b[i] = np.zeros((nn_structure[i],))\n",
        "\n",
        "\n",
        "    return  dlt_W, dlt_b"
      ],
      "execution_count": 101,
      "outputs": []
    },
    {
      "cell_type": "markdown",
      "metadata": {
        "id": "8VszjSR2k4n-"
      },
      "source": [
        "## Feed forward\n",
        "Perform a forward pass throught the network.  The function returns the values of $a$ and $z$"
      ]
    },
    {
      "cell_type": "code",
      "metadata": {
        "id": "DPV0T94sk4n-"
      },
      "source": [
        "def feed_forward(x, W, b):\n",
        "    # create a dictionary for holding the a values for all levels\n",
        "    all_levels_dict = {1:x}\n",
        "\n",
        "    # create a dictionary for holding the z values for all the layers\n",
        "    all_layers_dict = {}\n",
        "\n",
        "    # for each layer\n",
        "    for i in range(1,len(W)+1): \n",
        "      if i == 1:\n",
        "        get_node = x\n",
        "      else:\n",
        "        get_node = all_levels_dict[i]\n",
        "\n",
        "        \n",
        "      # z^(l+1) = W^(l)*a^(l) + b^(l)\n",
        "      all_layers_dict[i+1] = W[i].dot(get_node) + b[i] \n",
        "      # a^(l+1) = f(z^(l+1))\n",
        "      all_levels_dict[i+1] = f(all_layers_dict[i+1])\n",
        "\n",
        "        \n",
        "    return all_levels_dict, all_layers_dict"
      ],
      "execution_count": 102,
      "outputs": []
    },
    {
      "cell_type": "markdown",
      "metadata": {
        "id": "1-8uIUw8k4n-"
      },
      "source": [
        "## Compute $\\delta$\n",
        "compute $\\delta^{(s_l)}$ in a function called \"calculate_out_layer_delta\",  and  computes $\\delta^{(\\ell)}$ for the hidden layers in the function called \"calculate_hidden_delta\".  \n",
        "\n"
      ]
    },
    {
      "cell_type": "code",
      "metadata": {
        "id": "7jp2ztmLk4n-"
      },
      "source": [
        "def calculate_out_layer_delta(y, a_out, z_out):\n",
        "    # delta^(nl) = -(y_i - a_i^(nl)) * f'(z_i^(nl))\n",
        "    return -(y-a_out) * f_deriv(z_out)\n",
        "\n",
        "\n",
        "def calculate_hidden_delta(delta_plus_1, w_l, z_l):\n",
        "    # delta^(l) = (transpose(W^(l)) * delta^(l+1)) * f'(z^(l))\n",
        "    return np.dot(np.transpose(w_l),delta_plus_1) * f_deriv(z_l)"
      ],
      "execution_count": 103,
      "outputs": []
    },
    {
      "cell_type": "markdown",
      "metadata": {
        "id": "bdH_Zz5vk4n_"
      },
      "source": [
        "## The Back Propagation Algorithm\n"
      ]
    },
    {
      "cell_type": "code",
      "metadata": {
        "id": "FYkiEUg4k4n_"
      },
      "source": [
        "def train_nn(nn_structure, X, y, iter_num=3000, alpha=0.25):\n",
        "    # init W and b\n",
        "    W, b = setup_and_init_weights(nn_structure) \n",
        "    # init counter to 0\n",
        "    cnt = 0 \n",
        "    # store the length of data\n",
        "    y_len = len(y) \n",
        "    # init a list to store the all costs\n",
        "    all_costs_list = [] \n",
        "    print('Starting gradient descent for {} iterations'.format(iter_num))\n",
        "    print(\"alpha\", alpha)\n",
        "    # while the counter is less than the max iterations:\n",
        "    while cnt < iter_num:\n",
        "        # print the iteration number for every 1000 iter\n",
        "        if cnt % 1000 ==0:\n",
        "          print(\"Iteration\",cnt,\"of\",iter_num)\n",
        "\n",
        "        # init delt_W and delt_b\n",
        "        delt_W, delt_b = init_tri_values(nn_structure)\n",
        "        # init the cost to 0\n",
        "        cost = 0\n",
        "        N = len(y)\n",
        "        \n",
        "        # for each data:\n",
        "        for i in range(N):\n",
        "            dlt = {}\n",
        "            \n",
        "            # perform the feed forward pass and return the stored a and z values, to be used in the\n",
        "            # gradient descent step\n",
        "            all_levels_dict, all_layers_dict = feed_forward(X[i,:],W,b)\n",
        "            \n",
        "            \n",
        "            # loop from nl-1 to 1 backpropagating the errors\n",
        "            for l in range(len(nn_structure),0,-1):\n",
        "                if l == len(nn_structure):\n",
        "                  dlt[l] = calculate_out_layer_delta(y[i,:],all_levels_dict[l],all_layers_dict[l])\n",
        "                  cost += np.linalg.norm((y[i,:]-all_levels_dict[l]))\n",
        "       \n",
        "                else:\n",
        "                  if l > 1:\n",
        "                    dlt[l] = calculate_hidden_delta(dlt[l+1],W[l],all_layers_dict[l])\n",
        "                  # triW^(l) = triW^(l) + delta^(l+1) * transpose(a^(l))\n",
        "                      # hit: you can use np.newaxis to increase the number of dimensions\n",
        "                  delt_W[l] += np.dot(dlt[l+1][:,np.newaxis], np.transpose(all_levels_dict[l][:,np.newaxis]))\n",
        "\n",
        "                  # trib^(l) = trib^(l) + delta^(l+1)   \n",
        "                  delt_b[l] += dlt[l+1]\n",
        "                    \n",
        "    \n",
        "                \n",
        "        # perform the gradient descent step for the weights in each layer\n",
        "        for i in range(len(nn_structure)-1,0,-1):\n",
        "          W[i] += -alpha * (1.0/y_len * delt_W[i])\n",
        "          b[i] += -alpha * (1.0/y_len * delt_b[i])\n",
        "\n",
        "        # complete the average cost (mean squared error) calculation\n",
        "        cost =  1.0/y_len * cost \n",
        "        # append the cost to the cost list\n",
        "        all_costs_list.append(cost) \n",
        "        # increase the counter \n",
        "        cnt += 1\n",
        "        \n",
        "    return W, b, all_costs_list"
      ],
      "execution_count": 104,
      "outputs": []
    },
    {
      "cell_type": "code",
      "metadata": {
        "id": "tWumWPB2k4n_"
      },
      "source": [
        "def predict_y(W, b, X, n_layers):\n",
        "    # store the length of data\n",
        "    data_len = X.shape[0] \n",
        "    # init for prediction array\n",
        "    y = np.zeros((data_len,))\n",
        "    \n",
        "    # for each data:\n",
        "    for i in range(data_len):\n",
        "        # feed forward\n",
        "        all_levels_dict, all_layers_dict = feed_forward(X[i,:],W,b)\n",
        " \n",
        "        # predict\n",
        "        y[i] = np.argmax(all_levels_dict[n_layers])\n",
        "        \n",
        "    return y"
      ],
      "execution_count": 105,
      "outputs": []
    },
    {
      "cell_type": "markdown",
      "metadata": {
        "id": "6XdsZO6ek4n_"
      },
      "source": [
        "## Running the neural network\n",
        "\n",
        "Our code assumes the size of each layer in our network is held in a list.  The input layer will have 64 neurons (one for each pixel in our 8 by 8 pixelated digit).  Our hidden layer has 30 neurons (you can change this value).  The output layer has 10 neurons.\n",
        "\n",
        "Next we create the python list to hold the number of neurons for each level and then run the neural network code with our training data.\n",
        "\n",
        "This code will take some time..."
      ]
    },
    {
      "cell_type": "code",
      "metadata": {
        "id": "IEKu6DSBk4n_",
        "colab": {
          "base_uri": "https://localhost:8080/"
        },
        "outputId": "145b039f-549b-456a-c3e1-eebf6e85a40a"
      },
      "source": [
        "nn_structure = [64, 30, 10]\n",
        "    \n",
        "# train the NN with the nn_structure and 3000 iterations\n",
        "W, b, all_costs_list = train_nn(nn_structure, X_train, y_v_train)"
      ],
      "execution_count": 106,
      "outputs": [
        {
          "output_type": "stream",
          "text": [
            "Starting gradient descent for 3000 iterations\n",
            "alpha 0.25\n",
            "Iteration 0 of 3000\n",
            "Iteration 1000 of 3000\n",
            "Iteration 2000 of 3000\n"
          ],
          "name": "stdout"
        }
      ]
    },
    {
      "cell_type": "markdown",
      "metadata": {
        "id": "Wa9rLwQdk4n_"
      },
      "source": [
        "### Plotting the learning curve\n"
      ]
    },
    {
      "cell_type": "code",
      "metadata": {
        "id": "-ZW_uFIck4oA",
        "colab": {
          "base_uri": "https://localhost:8080/",
          "height": 295
        },
        "outputId": "81696cf1-f14e-48ef-ddf2-407333f8d2b7"
      },
      "source": [
        "# plot the avg_cost_func \n",
        "\n",
        "plt.plot(all_costs_list)\n",
        "# print(all_costs_list)\n",
        "plt.title(\"With Sigmoid activation function\")\n",
        "# x label: \"Iteration number\"\n",
        "plt.xlabel(\"Iteration number\")\n",
        "# y label: \"Average J\"\n",
        "plt.ylabel(\"Average J\")\n",
        "\n",
        "plt.show()"
      ],
      "execution_count": 109,
      "outputs": [
        {
          "output_type": "display_data",
          "data": {
            "image/png": "[encoded data removed]",
            "text/plain": [
              "<Figure size 432x288 with 1 Axes>"
            ]
          },
          "metadata": {
            "tags": [],
            "needs_background": "light"
          }
        }
      ]
    },
    {
      "cell_type": "markdown",
      "metadata": {
        "id": "Kmq5u8nbk4oA"
      },
      "source": [
        "## 5) Assessing accuracy\n",
        "Next we determine what percentage the neural network correctly predicted the handwritten digit correctly on the test set"
      ]
    },
    {
      "cell_type": "code",
      "metadata": {
        "id": "t8R4olk6k4oA",
        "colab": {
          "base_uri": "https://localhost:8080/"
        },
        "outputId": "a7ab6079-e660-4300-de1a-cac6ef59f404"
      },
      "source": [
        "# get the prediction accuracy and print\n",
        "y_pred = predict_y(W,b,X_test,3)\n",
        "\n",
        "print('Prediction accuracy is {}%'.format(accuracy_score(y_test, y_pred) * 100))"
      ],
      "execution_count": 108,
      "outputs": [
        {
          "output_type": "stream",
          "text": [
            "Prediction accuracy is 87.20445062586927%\n"
          ],
          "name": "stdout"
        }
      ]
    }
  ]
}