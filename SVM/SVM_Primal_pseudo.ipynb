{
 "cells": [
  {
   "cell_type": "markdown",
   "metadata": {},
   "source": [
    "# Hard Margin Case"
   ]
  },
  {
   "cell_type": "code",
   "execution_count": null,
   "metadata": {},
   "outputs": [],
   "source": [
    "import numpy as np\n",
    "import csv\n",
    "from numpy import genfromtxt\n",
    "import matplotlib.pyplot as plt\n",
    "from cvxopt import matrix, solvers\n",
    "import cvxopt\n",
    "%matplotlib inline\n",
    "\n",
    "\n",
    "# Use pandas to load data from files.\n",
    "\n",
    "# Store the data from “X.csv” to X and target from “y.csv” to y\n",
    "\n",
    "# Use np.where to find all index of data which y=1 and store them to idx_1\n",
    "\n",
    "# same as y=-1, store them to idx_2\n",
    "\n",
    "# make the plot use plt.scatter(X[idx_1,0], X[idx_1,1], s=30, c='b', marker=\"o\")\n",
    "\n",
    "# Set the x label with x1 and y label with x2\n",
    "\n",
    "# plt.show()\n"
   ]
  },
  {
   "cell_type": "code",
   "execution_count": null,
   "metadata": {},
   "outputs": [],
   "source": [
    "def linear_svm(X,y):\n",
    "    solvers.options['show_progress'] = False\n",
    "#     store the shape of X to two variables: N,F\n",
    "\n",
    "#     create the Identity matrix using np.identity\n",
    "\n",
    "#     create the Q matrix using np.zeros\n",
    "\n",
    "#     for each element in Q:\n",
    "\n",
    "#         when row number is 0, set Q[row, col]=0\n",
    "\n",
    "#         when col number is 0 set Q[row,col]=0\n",
    "\n",
    "#         else, compute Identity [row-1,col-1] and set it to Q[row,col]\n",
    "\n",
    "#     use cvxopt.matrix to create a new variable p with value Q\n",
    "\n",
    "#     use cvxopt.matrix to create a new variable q with value np.zeros(F+1)\n",
    "\n",
    "#     create an empty list\n",
    "\n",
    "#     for n in range(N):\n",
    "\n",
    "#         create a zero matric with size F+1\n",
    "\n",
    "#         for each element in the matric above:\n",
    "\n",
    "#             when the index=0, then set it to 1\n",
    "\n",
    "#             else, set the value to X[n].T[i-1]\n",
    "\n",
    "#         append the y[n]*updated matric to the empty list above (the one above the for loop\n",
    "\n",
    "#     change the empty list to the np array and times -1\n",
    "\n",
    "#     use cvxopt.matrix to convert above np array and store it in a variable: G\n",
    "\n",
    "#     create a variable named h with value np.ones(N)*-1 and convert it to cvxopt\n",
    "\n",
    "#     solve the primal using cvxopt.solvers.qp\n",
    "\n",
    "#     return the answer.\n",
    "\n",
    "\n",
    "# fit svm classifier\n",
    "\n",
    "# print the weights"
   ]
  },
  {
   "cell_type": "markdown",
   "metadata": {},
   "source": [
    "### Plotting the  decision boundary"
   ]
  },
  {
   "cell_type": "code",
   "execution_count": null,
   "metadata": {},
   "outputs": [],
   "source": [
    "def plot_data_with_decision_boundary(X, y, w, w0, fig_size=(15, 9), labels=['x1', 'x2']):\n",
    "#     plot the dataset\n",
    "\n",
    "#     find the slope of the decision boundary\n",
    "\n",
    "#     find the intercept.\n",
    "\n",
    "#     generate several x values np.arrange()\n",
    "\n",
    "#     calculate its y values using intercept and slope\n",
    "\n",
    "#     plot a line\n",
    "\n",
    "\n",
    "# plotting the points and decision boundary using the above function   \n"
   ]
  },
  {
   "cell_type": "markdown",
   "metadata": {},
   "source": [
    "Determine which points are closest to the decision boundary. What is the functional margin of the points closest to the decision boundary?   "
   ]
  },
  {
   "cell_type": "code",
   "execution_count": null,
   "metadata": {},
   "outputs": [],
   "source": [
    "# calculate distance from each point to the decision boundary\n",
    "\n",
    "# find the nearest data points and its index.\n"
   ]
  },
  {
   "cell_type": "markdown",
   "metadata": {},
   "source": [
    "Write the decision function $f_{\\texttt{primal}}({\\bf x})$ to predict examples.  Use this function to predict the label of $(3.0, 1.5)^T$ and $(1.2, 3.0)^T$"
   ]
  },
  {
   "cell_type": "code",
   "execution_count": null,
   "metadata": {},
   "outputs": [],
   "source": [
    "def f_primal(x): \n",
    "#     return the predicted value using svm primal\n",
    "\n",
    "# using f_ primal() to predict (3.0, 1.5) and (1.2, 3.0) and plot the figure.\n"
   ]
  }
 ],
 "metadata": {
  "kernelspec": {
   "display_name": "Python 3",
   "language": "python",
   "name": "python3"
  },
  "language_info": {
   "codemirror_mode": {
    "name": "ipython",
    "version": 3
   },
   "file_extension": ".py",
   "mimetype": "text/x-python",
   "name": "python",
   "nbconvert_exporter": "python",
   "pygments_lexer": "ipython3",
   "version": "3.7.9"
  }
 },
 "nbformat": 4,
 "nbformat_minor": 2
}
