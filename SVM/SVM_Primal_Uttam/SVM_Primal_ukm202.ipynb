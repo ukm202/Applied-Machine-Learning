{
  "nbformat": 4,
  "nbformat_minor": 0,
  "metadata": {
    "kernelspec": {
      "display_name": "Python 3",
      "language": "python",
      "name": "python3"
    },
    "language_info": {
      "codemirror_mode": {
        "name": "ipython",
        "version": 3
      },
      "file_extension": ".py",
      "mimetype": "text/x-python",
      "name": "python",
      "nbconvert_exporter": "python",
      "pygments_lexer": "ipython3",
      "version": "3.7.9"
    },
    "colab": {
      "name": "SVM_Primal_pseudo.ipynb",
      "provenance": [],
      "collapsed_sections": []
    }
  },
  "cells": [
    {
      "cell_type": "markdown",
      "metadata": {
        "id": "Fb0r3rD8YseL"
      },
      "source": [
        "# Hard Margin Case"
      ]
    },
    {
      "cell_type": "code",
      "metadata": {
        "colab": {
          "base_uri": "https://localhost:8080/",
          "height": 279
        },
        "id": "U6D0b53aYseR",
        "outputId": "5684d81f-182b-40fe-ebe4-23070de9f5ac"
      },
      "source": [
        "import numpy as np\n",
        "import csv\n",
        "from numpy import genfromtxt\n",
        "import matplotlib.pyplot as plt\n",
        "from cvxopt import matrix, solvers\n",
        "from cvxopt import matrix as cvxopt_matrix\n",
        "from cvxopt import solvers as cvxopt_solvers\n",
        "import math\n",
        "%matplotlib inline\n",
        "\n",
        "\n",
        "# Use pandas to load data from files.\n",
        "import pandas as pd\n",
        "\n",
        "# Store the data from “X.csv” to X and target from “y.csv” to y\n",
        "X = np.array(pd.read_csv('/X.csv'))\n",
        "y = np.array(pd.read_csv('/y.csv'))\n",
        "\n",
        "\n",
        "# Use np.where to find all index of data which y=1 and store them to idx_1\n",
        "idx_1 = np.where(y==1)[0]\n",
        "idx_2 = np.where(y==-1)[0]\n",
        "\n",
        "\n",
        "# same as y=-1, store them to idx_2\n",
        "\n",
        "# make the plot use plt.scatter(X[idx_1,0], X[idx_1,1], s=30, c='b', marker=\"o\")\n",
        "plt.scatter(X[idx_1,0], X[idx_1,1], s=30, c='r', marker=\"o\")\n",
        "plt.scatter(X[idx_2,0], X[idx_2,1], s=30, c='b', marker=\"o\")\n",
        "\n",
        "# Set the x label with x1 and y label with x2\n",
        "plt.xlabel('x1')\n",
        "plt.ylabel('x2')\n",
        "# print(X[idx_2,1])\n",
        "plt.show()\n"
      ],
      "execution_count": 94,
      "outputs": [
        {
          "output_type": "display_data",
          "data": {
            "image/png": "[encoded data removed]",
            "text/plain": [
              "<Figure size 432x288 with 1 Axes>"
            ]
          },
          "metadata": {
            "tags": [],
            "needs_background": "light"
          }
        }
      ]
    },
    {
      "cell_type": "code",
      "metadata": {
        "colab": {
          "base_uri": "https://localhost:8080/"
        },
        "id": "LgC31QjLYseT",
        "outputId": "aa238673-01f8-482b-cc00-2710e5d5292a"
      },
      "source": [
        "def linear_svm(X,y):\n",
        "    solvers.options['show_progress'] = False\n",
        "    #stored the shape of X to two variables: N,F\n",
        "    N, F = X.shape\n",
        "    # print(N,F)\n",
        "\n",
        "    #created the Identity matrix using np.identity\n",
        "\n",
        "    #created the Q matrix\n",
        "    X1 = y * X\n",
        "    Q = np.dot(X1, X1.T)*1.\n",
        "\n",
        "    #using cvxopt.matrix to created a new variable p with value Q\n",
        "    p = cvxopt_matrix(Q)\n",
        "\n",
        "    #using cvxopt.matrix to create a new variable q with neagtive value np.zeros((N,1))\n",
        "    q = cvxopt_matrix(-np.ones((N,1)))\n",
        "\n",
        "    #using cvxopt.matrix converted the identity matrix of size N into into its neagtive value and store it in a variable: G\n",
        "    G = cvxopt_matrix(-np.identity(N))\n",
        "\n",
        "    #created a variable named h with value np.zeroes(N) and converted it to cvxopt\n",
        "    h = cvxopt_matrix(np.zeros(N))\n",
        "    \n",
        "    # reshaped y\n",
        "    A = cvxopt_matrix(y.reshape(1,-1))\n",
        "\n",
        "    #created a variable named b with value np.zeroes(1) and converted it to cvxopt\n",
        "    b = cvxopt_matrix(np.zeros(1))\n",
        "\n",
        "    #solve the primal using cvxopt.solvers.qp\n",
        "    sol = cvxopt_solvers.qp(p,q,G,h,A,b)\n",
        "\n",
        "    #calculating the weight and bias and returning them through this function\n",
        "    alphas = np.array(sol['x'])\n",
        "    w = ((y * alphas).T @ X).reshape(-1,1)\n",
        "    S = (alphas > 1e-4).flatten()\n",
        "    w0 = y[S] - np.dot(X[S], w)\n",
        "\n",
        "    return w, w0[0]\n",
        "\n",
        "\n",
        "\n",
        "# fit svm classifier\n",
        "w, w0 = linear_svm(X,y)\n",
        "#print the weights\n",
        "#print the bias\n",
        "print(\"w = \", w.flatten())\n",
        "print(\"w0 = \", w0)\n",
        "\n",
        "\n"
      ],
      "execution_count": 95,
      "outputs": [
        {
          "output_type": "stream",
          "text": [
            "w =  [ 1.42189318 -1.58830104]\n",
            "w0 =  [0.46118099]\n"
          ],
          "name": "stdout"
        }
      ]
    },
    {
      "cell_type": "markdown",
      "metadata": {
        "id": "3fyL2C7MYseT"
      },
      "source": [
        "### Plotting the  decision boundary"
      ]
    },
    {
      "cell_type": "code",
      "metadata": {
        "colab": {
          "base_uri": "https://localhost:8080/",
          "height": 279
        },
        "id": "QmI-28CYYseT",
        "outputId": "3221e6d4-b648-415e-bc48-335f038822ee"
      },
      "source": [
        "def plot_data_with_decision_boundary(X, y, w, w0, fig_size=(15,9), labels=['x1', 'x2']):\n",
        "#     plotted the dataset\n",
        "      plt.scatter(X[idx_1,0], X[idx_1,1], s=fig_size[0], c='b', marker=\"o\")\n",
        "      plt.scatter(X[idx_2,0], X[idx_2,1], s=fig_size[1], c='r', marker=\"o\")\n",
        "\n",
        "      # Set the x label with x1 and y label with x2\n",
        "      plt.xlabel(labels[0])\n",
        "      plt.ylabel(labels[1])\n",
        "\n",
        "#     find the slope of the decision boundary\n",
        "      m = -(w0 / w[1]) / (w0 / w[0])\n",
        "\n",
        "#     generate several x values np.arrange()\n",
        "      x_values = np.arange(6)\n",
        "\n",
        "#     calculate its y values using intercept and slope\n",
        "      y_values = []\n",
        "      for x in x_values:\n",
        "        Y = x * m + w0\n",
        "        y_values.append(Y)\n",
        "\n",
        "#     plot a line\n",
        "      \n",
        "      plt.plot(x_values, y_values,)\n",
        "\n",
        "\n",
        "      return m\n",
        "\n",
        "# plotting the points and decision boundary using the above function   \n",
        "m = plot_data_with_decision_boundary(X,y,w,w0)\n"
      ],
      "execution_count": 96,
      "outputs": [
        {
          "output_type": "display_data",
          "data": {
            "image/png": "[encoded data removed]",
            "text/plain": [
              "<Figure size 432x288 with 1 Axes>"
            ]
          },
          "metadata": {
            "tags": [],
            "needs_background": "light"
          }
        }
      ]
    },
    {
      "cell_type": "markdown",
      "metadata": {
        "id": "I03oUYwmYseU"
      },
      "source": [
        "Determine which points are closest to the decision boundary. What is the functional margin of the points closest to the decision boundary?   "
      ]
    },
    {
      "cell_type": "code",
      "metadata": {
        "id": "zygxIjkwYseU",
        "colab": {
          "base_uri": "https://localhost:8080/"
        },
        "outputId": "d7e5f14f-e2e2-4498-c8e4-21b0b7c7330f"
      },
      "source": [
        "# calculate distance from each point to the decision boundary\n",
        "# find the nearest data points and its index.\n",
        "def closest_distance(x1, y1, a, b, c):    \n",
        "    dis = (abs(a * x1 + b * y1 + c)) / (math.sqrt(a * a + b * b)) \n",
        "    return dis, x1, y1\n",
        "def closest_distance1(x1, y1, a, b, c):    \n",
        "    dis = ((a * x1 + b * y1 + c)) / (math.sqrt(a * a + b * b)) \n",
        "    return dis\n",
        "    \n",
        "    \n",
        "dis,x_val,y_val = closest_distance(X[idx_1[0],0], X[idx_1[0],1], w[0], w[1], w0)\n",
        "min_diss = dis\n",
        "min_diss2 = dis\n",
        "dis_list = []\n",
        "indx1 = idx_1[0]\n",
        "indx2 = idx_1[0]\n",
        "point_idx = []\n",
        "main_list = []\n",
        "sub_list = []\n",
        "\n",
        "for i in range(len(idx_1)):\n",
        "  dis,x0,y0 = closest_distance(X[idx_1[i],0], X[idx_1[i],1], w[0], w[1], w0)\n",
        "  dis_list.append(dis)\n",
        "\n",
        " \n",
        "  if(dis < min_diss and dis < min_diss2):\n",
        "    min_diss = dis\n",
        "    x_vall = x0\n",
        "    y_vall = y0\n",
        "    indx1 = idx_1[i]\n",
        "  elif ( dis > min_diss and dis < min_diss2):\n",
        "    min_diss2 = dis\n",
        "    x_vall2 = x0\n",
        "    y_vall2 = y0\n",
        "    indx2 = idx_1[i]\n",
        "\n",
        "point_idx.append(indx2)\n",
        "    \n",
        "point_idx.append(indx1)\n",
        "sub_list.append(x_vall)\n",
        "sub_list.append(y_vall)\n",
        "main_list.append(sub_list)\n",
        "sub_list = []\n",
        "\n",
        "sub_list.append(x_vall2)\n",
        "sub_list.append(y_vall2)\n",
        "main_list.append(sub_list)\n",
        "sub_list = []\n",
        "\n",
        "# print(x_vall,y_vall,indx1)\n",
        "# print(x_vall2,y_vall2,indx2)\n",
        "\n",
        "print(\"==============\")\n",
        "\n",
        "dis,x_val,y_val = closest_distance(X[idx_2[0],0], X[idx_2[0],1], w[0], w[1], w0)\n",
        "min_dis = dis\n",
        "min_dis2 = dis\n",
        "index1 = idx_2[0]\n",
        "index2 = idx_2[0]\n",
        "\n",
        "for i in range(len(idx_2)):\n",
        "  dis,x1,y1 = closest_distance(X[idx_2[i],0], X[idx_2[i],1], w[0], w[1], w0)\n",
        "  dis_list.append(dis)\n",
        "\n",
        "  if(dis < min_dis and dis < min_dis2):\n",
        "    min_dis = dis\n",
        "    x_val = x1\n",
        "    y_val = y1\n",
        "    index1 = idx_2[i]\n",
        "\n",
        "  elif ( dis > min_dis and dis < min_dis2):\n",
        "    min_dis2 = dis\n",
        "    x_val2 = x1\n",
        "    y_val2 = y1\n",
        "    index2 = idx_2[i]\n",
        "\n",
        "\n",
        "point_idx.append(index2)\n",
        "sub_list.append(x_val2)\n",
        "sub_list.append(y_val2)\n",
        "main_list.append(sub_list)\n",
        "sub_list = []  \n",
        "\n",
        "\n",
        "# print(x_val,y_val,index1)\n",
        "# print(x_val2,y_val2,index2)\n",
        "\n",
        "print(\"MARGIN \", round(float(min(dis_list)),3) )\n",
        "\n",
        "print(\"Points Idx : \", point_idx )\n",
        "\n",
        "print(\"Points : \", main_list)\n",
        "\n"
      ],
      "execution_count": 97,
      "outputs": [
        {
          "output_type": "stream",
          "text": [
            "==============\n",
            "MARGIN  0.469\n",
            "Points Idx :  [35, 48, 64]\n",
            "Points :  [[2.5187963927498647, 1.9156572447102809], [2.5658805350656197, 1.7473917340854124], [1.4101058601349534, 2.4402427270560407]]\n"
          ],
          "name": "stdout"
        }
      ]
    },
    {
      "cell_type": "markdown",
      "metadata": {
        "id": "B_v3X3TEYseU"
      },
      "source": [
        "Write the decision function $f_{\\texttt{primal}}({\\bf x})$ to predict examples.  Use this function to predict the label of $(3.0, 1.5)^T$ and $(1.2, 3.0)^T$"
      ]
    },
    {
      "cell_type": "code",
      "metadata": {
        "id": "kiGptt_3YseV",
        "colab": {
          "base_uri": "https://localhost:8080/",
          "height": 296
        },
        "outputId": "95faf11c-291f-4bf7-a318-7a3fafbd712c"
      },
      "source": [
        "# using f_ primal() to predict (3.0, 1.5) and (1.2, 3.0) and plot the figure.\n",
        "def f_primal(x): \n",
        "  dis = closest_distance1(x[0], x[1],w[1],w[0],w0)\n",
        "  # return the predicted value (whether negative or positive) using svm primal\n",
        "  if ( dis >= 0):\n",
        "    return 'r'\n",
        "  elif (dis < 0):\n",
        "    return 'b'  \n",
        "x = [3.0,1.5]\n",
        "y = [1.2,3.0]  \n",
        "dist = f_primal(x)\n",
        "dist1 = f_primal(y)\n",
        "\n",
        "\n",
        "# plot the dataset\n",
        "plt.scatter(x[0], x[1], s=15, c=dist, marker=\"o\")\n",
        "plt.scatter(y[0], y[1], s=9, c=dist1, marker=\"o\")\n",
        "\n",
        "\n",
        "# Set the x label with x1 and y label with x2\n",
        "plt.xlabel('x1')\n",
        "plt.ylabel('x2')\n",
        "\n",
        "#find the slope using the same weight and bias\n",
        "m = -(w0 / w[1]) / (w0 / w[0])\n",
        "\n",
        "\n",
        "\n",
        "#generate several x values np.arrange()\n",
        "x_values = np.arange(6)\n",
        "y_values = []\n",
        "for x in x_values:\n",
        "  Y = x * m + w0\n",
        "  y_values.append(Y)\n",
        "\n",
        "plt.plot(x_values, y_values)\n",
        "\n",
        "\n"
      ],
      "execution_count": 98,
      "outputs": [
        {
          "output_type": "execute_result",
          "data": {
            "text/plain": [
              "[<matplotlib.lines.Line2D at 0x7f274c9f5fd0>]"
            ]
          },
          "metadata": {
            "tags": []
          },
          "execution_count": 98
        },
        {
          "output_type": "display_data",
          "data": {
            "image/png": "[encoded data removed]",
            "text/plain": [
              "<Figure size 432x288 with 1 Axes>"
            ]
          },
          "metadata": {
            "tags": [],
            "needs_background": "light"
          }
        }
      ]
    }
  ]
}