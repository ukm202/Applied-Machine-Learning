{
  "nbformat": 4,
  "nbformat_minor": 0,
  "metadata": {
    "kernelspec": {
      "display_name": "Python 3",
      "language": "python",
      "name": "python3"
    },
    "language_info": {
      "codemirror_mode": {
        "name": "ipython",
        "version": 3
      },
      "file_extension": ".py",
      "mimetype": "text/x-python",
      "name": "python",
      "nbconvert_exporter": "python",
      "pygments_lexer": "ipython3",
      "version": "3.7.6"
    },
    "colab": {
      "name": "Part2_LogisticRegression_pseudo.ipynb",
      "provenance": []
    }
  },
  "cells": [
    {
      "cell_type": "markdown",
      "metadata": {
        "id": "Jm9IgZiHL7Zt"
      },
      "source": [
        "# Logistic Regression \n",
        "\n",
        "In the assignment, you will use gradient ascent to find the weights for the logistic regression.   \n",
        "\n",
        "As an example, we will use the widely-used breast cancer data set.  This data set is described here:\n",
        "\n",
        "https://archive.ics.uci.edu/ml/machine-learning-databases/breast-cancer-wisconsin\n"
      ]
    },
    {
      "cell_type": "markdown",
      "metadata": {
        "id": "FoXINWFWL7Zy"
      },
      "source": [
        "## Step 1:  Getting, preprocessing, and understanding the dataset"
      ]
    },
    {
      "cell_type": "markdown",
      "metadata": {
        "id": "54XOfniLL7Zy"
      },
      "source": [
        "### Importing the standard libraries"
      ]
    },
    {
      "cell_type": "code",
      "metadata": {
        "id": "tBQvb-XFL7Zy"
      },
      "source": [
        "# Importing important libraries\n",
        "# Import breastcancer dataset\n",
        "# Import preprocessing from sklearn\n",
        "# Import train_test_split from sklearn\n",
        "# Import numpy,math\n",
        "%matplotlib inline \n",
        "import sklearn.preprocessing\n",
        "import numpy as np\n",
        "import pandas as pd\n",
        "from sklearn.datasets import load_breast_cancer\n",
        "from IPython.core.interactiveshell import InteractiveShell\n",
        "InteractiveShell.ast_node_interactivity = \"all\"\n",
        "from sklearn.model_selection import train_test_split\n",
        "import matplotlib.pyplot as plt\n"
      ],
      "execution_count": 45,
      "outputs": []
    },
    {
      "cell_type": "markdown",
      "metadata": {
        "id": "1LRb3xZlL7Zz"
      },
      "source": [
        "### Importing the dataset"
      ]
    },
    {
      "cell_type": "code",
      "metadata": {
        "colab": {
          "base_uri": "https://localhost:8080/"
        },
        "id": "5_HR_dyeL7Zz",
        "outputId": "5fc6a472-2ceb-4dc4-98b3-a8ec95e746b5"
      },
      "source": [
        "# Load dataset to a python variable cancer\n",
        "cancer = load_breast_cancer()\n",
        "print(cancer)\n",
        "# cancer.DESCR\n",
        "# Store target to a variable called y\n",
        "# Store feature to a variable called X\n",
        "\n",
        "y = cancer.target\n",
        "X = cancer.data\n",
        "# y.reshape(y.shape[0],1)\n",
        "\n",
        "# print(y)\n",
        "# print(X)\n",
        "\n"
      ],
      "execution_count": 46,
      "outputs": [
        {
          "output_type": "stream",
          "text": [
            "{'data': array([[1.799e+01, 1.038e+01, 1.228e+02, ..., 2.654e-01, 4.601e-01,\n",
            "        1.189e-01],\n",
            "       [2.057e+01, 1.777e+01, 1.329e+02, ..., 1.860e-01, 2.750e-01,\n",
            "        8.902e-02],\n",
            "       [1.969e+01, 2.125e+01, 1.300e+02, ..., 2.430e-01, 3.613e-01,\n",
            "        8.758e-02],\n",
            "       ...,\n",
            "       [1.660e+01, 2.808e+01, 1.083e+02, ..., 1.418e-01, 2.218e-01,\n",
            "        7.820e-02],\n",
            "       [2.060e+01, 2.933e+01, 1.401e+02, ..., 2.650e-01, 4.087e-01,\n",
            "        1.240e-01],\n",
            "       [7.760e+00, 2.454e+01, 4.792e+01, ..., 0.000e+00, 2.871e-01,\n",
            "        7.039e-02]]), 'target': array([0, 0, 0, 0, 0, 0, 0, 0, 0, 0, 0, 0, 0, 0, 0, 0, 0, 0, 0, 1, 1, 1,\n",
            "       0, 0, 0, 0, 0, 0, 0, 0, 0, 0, 0, 0, 0, 0, 0, 1, 0, 0, 0, 0, 0, 0,\n",
            "       0, 0, 1, 0, 1, 1, 1, 1, 1, 0, 0, 1, 0, 0, 1, 1, 1, 1, 0, 1, 0, 0,\n",
            "       1, 1, 1, 1, 0, 1, 0, 0, 1, 0, 1, 0, 0, 1, 1, 1, 0, 0, 1, 0, 0, 0,\n",
            "       1, 1, 1, 0, 1, 1, 0, 0, 1, 1, 1, 0, 0, 1, 1, 1, 1, 0, 1, 1, 0, 1,\n",
            "       1, 1, 1, 1, 1, 1, 1, 0, 0, 0, 1, 0, 0, 1, 1, 1, 0, 0, 1, 0, 1, 0,\n",
            "       0, 1, 0, 0, 1, 1, 0, 1, 1, 0, 1, 1, 1, 1, 0, 1, 1, 1, 1, 1, 1, 1,\n",
            "       1, 1, 0, 1, 1, 1, 1, 0, 0, 1, 0, 1, 1, 0, 0, 1, 1, 0, 0, 1, 1, 1,\n",
            "       1, 0, 1, 1, 0, 0, 0, 1, 0, 1, 0, 1, 1, 1, 0, 1, 1, 0, 0, 1, 0, 0,\n",
            "       0, 0, 1, 0, 0, 0, 1, 0, 1, 0, 1, 1, 0, 1, 0, 0, 0, 0, 1, 1, 0, 0,\n",
            "       1, 1, 1, 0, 1, 1, 1, 1, 1, 0, 0, 1, 1, 0, 1, 1, 0, 0, 1, 0, 1, 1,\n",
            "       1, 1, 0, 1, 1, 1, 1, 1, 0, 1, 0, 0, 0, 0, 0, 0, 0, 0, 0, 0, 0, 0,\n",
            "       0, 0, 1, 1, 1, 1, 1, 1, 0, 1, 0, 1, 1, 0, 1, 1, 0, 1, 0, 0, 1, 1,\n",
            "       1, 1, 1, 1, 1, 1, 1, 1, 1, 1, 1, 0, 1, 1, 0, 1, 0, 1, 1, 1, 1, 1,\n",
            "       1, 1, 1, 1, 1, 1, 1, 1, 1, 0, 1, 1, 1, 0, 1, 0, 1, 1, 1, 1, 0, 0,\n",
            "       0, 1, 1, 1, 1, 0, 1, 0, 1, 0, 1, 1, 1, 0, 1, 1, 1, 1, 1, 1, 1, 0,\n",
            "       0, 0, 1, 1, 1, 1, 1, 1, 1, 1, 1, 1, 1, 0, 0, 1, 0, 0, 0, 1, 0, 0,\n",
            "       1, 1, 1, 1, 1, 0, 1, 1, 1, 1, 1, 0, 1, 1, 1, 0, 1, 1, 0, 0, 1, 1,\n",
            "       1, 1, 1, 1, 0, 1, 1, 1, 1, 1, 1, 1, 0, 1, 1, 1, 1, 1, 0, 1, 1, 0,\n",
            "       1, 1, 1, 1, 1, 1, 1, 1, 1, 1, 1, 1, 0, 1, 0, 0, 1, 0, 1, 1, 1, 1,\n",
            "       1, 0, 1, 1, 0, 1, 0, 1, 1, 0, 1, 0, 1, 1, 1, 1, 1, 1, 1, 1, 0, 0,\n",
            "       1, 1, 1, 1, 1, 1, 0, 1, 1, 1, 1, 1, 1, 1, 1, 1, 1, 0, 1, 1, 1, 1,\n",
            "       1, 1, 1, 0, 1, 0, 1, 1, 0, 1, 1, 1, 1, 1, 0, 0, 1, 0, 1, 0, 1, 1,\n",
            "       1, 1, 1, 0, 1, 1, 0, 1, 0, 1, 0, 0, 1, 1, 1, 0, 1, 1, 1, 1, 1, 1,\n",
            "       1, 1, 1, 1, 1, 0, 1, 0, 0, 1, 1, 1, 1, 1, 1, 1, 1, 1, 1, 1, 1, 1,\n",
            "       1, 1, 1, 1, 1, 1, 1, 1, 1, 1, 1, 1, 0, 0, 0, 0, 0, 0, 1]), 'target_names': array(['malignant', 'benign'], dtype='<U9'), 'DESCR': '.. _breast_cancer_dataset:\\n\\nBreast cancer wisconsin (diagnostic) dataset\\n--------------------------------------------\\n\\n**Data Set Characteristics:**\\n\\n    :Number of Instances: 569\\n\\n    :Number of Attributes: 30 numeric, predictive attributes and the class\\n\\n    :Attribute Information:\\n        - radius (mean of distances from center to points on the perimeter)\\n        - texture (standard deviation of gray-scale values)\\n        - perimeter\\n        - area\\n        - smoothness (local variation in radius lengths)\\n        - compactness (perimeter^2 / area - 1.0)\\n        - concavity (severity of concave portions of the contour)\\n        - concave points (number of concave portions of the contour)\\n        - symmetry \\n        - fractal dimension (\"coastline approximation\" - 1)\\n\\n        The mean, standard error, and \"worst\" or largest (mean of the three\\n        largest values) of these features were computed for each image,\\n        resulting in 30 features.  For instance, field 3 is Mean Radius, field\\n        13 is Radius SE, field 23 is Worst Radius.\\n\\n        - class:\\n                - WDBC-Malignant\\n                - WDBC-Benign\\n\\n    :Summary Statistics:\\n\\n    ===================================== ====== ======\\n                                           Min    Max\\n    ===================================== ====== ======\\n    radius (mean):                        6.981  28.11\\n    texture (mean):                       9.71   39.28\\n    perimeter (mean):                     43.79  188.5\\n    area (mean):                          143.5  2501.0\\n    smoothness (mean):                    0.053  0.163\\n    compactness (mean):                   0.019  0.345\\n    concavity (mean):                     0.0    0.427\\n    concave points (mean):                0.0    0.201\\n    symmetry (mean):                      0.106  0.304\\n    fractal dimension (mean):             0.05   0.097\\n    radius (standard error):              0.112  2.873\\n    texture (standard error):             0.36   4.885\\n    perimeter (standard error):           0.757  21.98\\n    area (standard error):                6.802  542.2\\n    smoothness (standard error):          0.002  0.031\\n    compactness (standard error):         0.002  0.135\\n    concavity (standard error):           0.0    0.396\\n    concave points (standard error):      0.0    0.053\\n    symmetry (standard error):            0.008  0.079\\n    fractal dimension (standard error):   0.001  0.03\\n    radius (worst):                       7.93   36.04\\n    texture (worst):                      12.02  49.54\\n    perimeter (worst):                    50.41  251.2\\n    area (worst):                         185.2  4254.0\\n    smoothness (worst):                   0.071  0.223\\n    compactness (worst):                  0.027  1.058\\n    concavity (worst):                    0.0    1.252\\n    concave points (worst):               0.0    0.291\\n    symmetry (worst):                     0.156  0.664\\n    fractal dimension (worst):            0.055  0.208\\n    ===================================== ====== ======\\n\\n    :Missing Attribute Values: None\\n\\n    :Class Distribution: 212 - Malignant, 357 - Benign\\n\\n    :Creator:  Dr. William H. Wolberg, W. Nick Street, Olvi L. Mangasarian\\n\\n    :Donor: Nick Street\\n\\n    :Date: November, 1995\\n\\nThis is a copy of UCI ML Breast Cancer Wisconsin (Diagnostic) datasets.\\nhttps://goo.gl/U2Uwz2\\n\\nFeatures are computed from a digitized image of a fine needle\\naspirate (FNA) of a breast mass.  They describe\\ncharacteristics of the cell nuclei present in the image.\\n\\nSeparating plane described above was obtained using\\nMultisurface Method-Tree (MSM-T) [K. P. Bennett, \"Decision Tree\\nConstruction Via Linear Programming.\" Proceedings of the 4th\\nMidwest Artificial Intelligence and Cognitive Science Society,\\npp. 97-101, 1992], a classification method which uses linear\\nprogramming to construct a decision tree.  Relevant features\\nwere selected using an exhaustive search in the space of 1-4\\nfeatures and 1-3 separating planes.\\n\\nThe actual linear program used to obtain the separating plane\\nin the 3-dimensional space is that described in:\\n[K. P. Bennett and O. L. Mangasarian: \"Robust Linear\\nProgramming Discrimination of Two Linearly Inseparable Sets\",\\nOptimization Methods and Software 1, 1992, 23-34].\\n\\nThis database is also available through the UW CS ftp server:\\n\\nftp ftp.cs.wisc.edu\\ncd math-prog/cpo-dataset/machine-learn/WDBC/\\n\\n.. topic:: References\\n\\n   - W.N. Street, W.H. Wolberg and O.L. Mangasarian. Nuclear feature extraction \\n     for breast tumor diagnosis. IS&T/SPIE 1993 International Symposium on \\n     Electronic Imaging: Science and Technology, volume 1905, pages 861-870,\\n     San Jose, CA, 1993.\\n   - O.L. Mangasarian, W.N. Street and W.H. Wolberg. Breast cancer diagnosis and \\n     prognosis via linear programming. Operations Research, 43(4), pages 570-577, \\n     July-August 1995.\\n   - W.H. Wolberg, W.N. Street, and O.L. Mangasarian. Machine learning techniques\\n     to diagnose breast cancer from fine-needle aspirates. Cancer Letters 77 (1994) \\n     163-171.', 'feature_names': array(['mean radius', 'mean texture', 'mean perimeter', 'mean area',\n",
            "       'mean smoothness', 'mean compactness', 'mean concavity',\n",
            "       'mean concave points', 'mean symmetry', 'mean fractal dimension',\n",
            "       'radius error', 'texture error', 'perimeter error', 'area error',\n",
            "       'smoothness error', 'compactness error', 'concavity error',\n",
            "       'concave points error', 'symmetry error',\n",
            "       'fractal dimension error', 'worst radius', 'worst texture',\n",
            "       'worst perimeter', 'worst area', 'worst smoothness',\n",
            "       'worst compactness', 'worst concavity', 'worst concave points',\n",
            "       'worst symmetry', 'worst fractal dimension'], dtype='<U23'), 'filename': '/usr/local/lib/python3.6/dist-packages/sklearn/datasets/data/breast_cancer.csv'}\n"
          ],
          "name": "stdout"
        }
      ]
    },
    {
      "cell_type": "code",
      "metadata": {
        "scrolled": true,
        "colab": {
          "base_uri": "https://localhost:8080/"
        },
        "id": "unpSROGTL7Z0",
        "outputId": "f495f3b9-4401-4448-e27c-c862fc7010a8"
      },
      "source": [
        "# Printing the shape of data (X) and target (Y) values \n",
        "print(X.shape)\n",
        "print(y.shape)"
      ],
      "execution_count": 47,
      "outputs": [
        {
          "output_type": "stream",
          "text": [
            "(569, 30)\n",
            "(569,)\n"
          ],
          "name": "stdout"
        }
      ]
    },
    {
      "cell_type": "markdown",
      "metadata": {
        "id": "zuHuMx-aL7Z0"
      },
      "source": [
        "### Data Pre-Processing\n",
        "#### Splitting the data into train and test before scaling the dataset\n"
      ]
    },
    {
      "cell_type": "code",
      "metadata": {
        "id": "PdxJj7LvL7Z0"
      },
      "source": [
        "# Use train_test_split() function to split the dataset\n",
        "# Store the return value of pervious step to X_train, X_test, y_train, y_test\n",
        "X_train, X_test, y_train, y_test = train_test_split(X,y, test_size=0.25, random_state=21)\n",
        "# print(X)\n",
        "\n",
        "# print(\"=======================================\")\n",
        "# print(X_train)"
      ],
      "execution_count": 48,
      "outputs": []
    },
    {
      "cell_type": "markdown",
      "metadata": {
        "id": "KvbmADimL7Z0"
      },
      "source": [
        "#### Scale the data since we will be using gradient ascent"
      ]
    },
    {
      "cell_type": "code",
      "metadata": {
        "colab": {
          "base_uri": "https://localhost:8080/"
        },
        "id": "INcLLZ-IL7Z1",
        "outputId": "a9ac8fbf-9d5b-4c30-b024-5932a8620a06"
      },
      "source": [
        "# Find the scaler of the dataset by using preprocessing.StandardScaler().fit()\n",
        "\n",
        "scaler = sklearn.preprocessing.StandardScaler().fit(X_train)\n",
        "X_train_transforn = scaler.transform(X_train)\n",
        "X_test_transform = scaler.transform(X_test)\n",
        "# Using this scale to scale the X_train and X_test using .transform()\n",
        "\n",
        "print( X_train_transforn )\n",
        "\n"
      ],
      "execution_count": 49,
      "outputs": [
        {
          "output_type": "stream",
          "text": [
            "[[ 1.53579555  0.86798336  1.51860143 ...  1.00773221 -0.55200445\n",
            "  -0.44270833]\n",
            " [-0.71220728  1.15183612 -0.66288327 ...  0.21539164 -0.17594906\n",
            "   0.83433947]\n",
            " [ 0.31169223 -1.50899503  0.24243496 ... -0.20300096 -0.97610216\n",
            "  -0.51173795]\n",
            " ...\n",
            " [ 2.15356732 -0.50743326  2.01694174 ...  1.00006934 -0.66134214\n",
            "  -1.0402459 ]\n",
            " [-0.60924532 -1.11206272 -0.59353091 ... -0.78568546 -0.26872043\n",
            "  -0.06574194]\n",
            " [ 0.80934171  0.18719829  0.72125694 ... -0.10951397  0.60598109\n",
            "  -1.05372825]]\n"
          ],
          "name": "stdout"
        }
      ]
    },
    {
      "cell_type": "code",
      "metadata": {
        "colab": {
          "base_uri": "https://localhost:8080/"
        },
        "id": "NIWg_W71L7Z1",
        "outputId": "28d7949f-5eda-426e-e694-589dbb7cba0b"
      },
      "source": [
        "# TODO - Print the shape of x_train and y_train \n",
        "print(X_train_transforn.shape) # It should print (426, 30)\n",
        "print(y_train.shape) # It should print (426,)"
      ],
      "execution_count": 50,
      "outputs": [
        {
          "output_type": "stream",
          "text": [
            "(426, 30)\n",
            "(426,)\n"
          ],
          "name": "stdout"
        }
      ]
    },
    {
      "cell_type": "markdown",
      "metadata": {
        "id": "nTn_nNPEL7Z3"
      },
      "source": [
        "#### Adding a column of ones to the  matrices $X_{train}$ and  $X_{test}$\n",
        "After adding a column of ones $X_{train}=\\left[\\begin{matrix}\n",
        "1& x^{(1)}_1& x^{(1)}_2 &\\ldots& x^{(1)}_d\\\\\n",
        "1& x^{(2)}_1& x^{(2)}_2 &\\ldots& x^{(2)}_d\\\\\n",
        "\\vdots & \\vdots &\\vdots & & \\vdots \\\\\n",
        "1& x^{(N')}_1& x^{(N')}_2 &\\ldots& x^{(N')}_d\\\\\n",
        "\\end{matrix}\\right]$\n",
        "\n",
        "Similarly for $X_{test}$"
      ]
    },
    {
      "cell_type": "code",
      "metadata": {
        "colab": {
          "base_uri": "https://localhost:8080/"
        },
        "id": "qx3H8awWL7Z3",
        "outputId": "0addbe7b-526c-4b2d-adc6-b3742cd47101"
      },
      "source": [
        "# Append a column of ones to x_train \n",
        "# Create a column vector of ones by using np.ones and reshape\n",
        "# X_train.shape[0]\n",
        "\n",
        "train_ones = np.ones(X_train_transforn.shape[0]).transpose()\n",
        "test_ones = np.ones(X_test_transform.shape[0]).transpose()\n",
        "\n",
        "\n",
        "# Append a column of ones in the beginning of x_train by using np.hstack\n",
        "X_train = np.hstack([train_ones[:,None],X_train_transforn])\n",
        "\n",
        "# print(X_train)\n",
        "# print(X_test)\n",
        "\n",
        "# Now do the same for the test data\n",
        "X_test = np.hstack([test_ones[:,None],X_test_transform])\n",
        "\n",
        "\n",
        "# We can check that everything worked correctly by:\n",
        "# Printing out the new dimensions\n",
        "print(\"The trainng data has dimensions: \", X_train.shape, \". The testing data has dimensions: \",X_test.shape)\n",
        "# # Looking at the first two rows of X_train to check everything worked as expected\n",
        "print(X_train[0:2])"
      ],
      "execution_count": 51,
      "outputs": [
        {
          "output_type": "stream",
          "text": [
            "The trainng data has dimensions:  (426, 31) . The testing data has dimensions:  (143, 31)\n",
            "[[ 1.          1.53579555  0.86798336  1.51860143  1.47198388  0.32517161\n",
            "   0.51391669  1.22141943  1.36237283  0.64826986 -0.5420035   0.77063231\n",
            "   2.91022518  1.3249579   0.68333023  1.58392275  0.89370142  1.62336581\n",
            "   3.91973191  0.9337271   1.06963821  0.91761181  0.72955646  1.00996575\n",
            "   0.72836098 -0.32516498 -0.11765773  0.49224347  1.00773221 -0.55200445\n",
            "  -0.44270833]\n",
            " [ 1.         -0.71220728  1.15183612 -0.66288327 -0.72333553  1.90108067\n",
            "   0.95940798 -0.56402638 -0.10617604  1.16631026  1.63426623 -0.40653169\n",
            "   1.36692606 -0.37089596 -0.44847431  2.1803592   0.54603994 -0.49019397\n",
            "   1.02591588 -0.55700942  0.89308176 -0.703147    1.01561415 -0.65374586\n",
            "  -0.70206247  1.89131043  0.40495381 -0.67003829  0.21539164 -0.17594906\n",
            "   0.83433947]]\n"
          ],
          "name": "stdout"
        }
      ]
    },
    {
      "cell_type": "markdown",
      "metadata": {
        "id": "8WEIiNDcL7Z3"
      },
      "source": [
        "### Understanding the dataset"
      ]
    },
    {
      "cell_type": "code",
      "metadata": {
        "colab": {
          "base_uri": "https://localhost:8080/"
        },
        "id": "GvEBedyNL7Z3",
        "outputId": "86490b54-9d98-41c5-972d-a2fa72f0534a"
      },
      "source": [
        "# Printing the names of all the features\n",
        "print(cancer.feature_names)"
      ],
      "execution_count": 52,
      "outputs": [
        {
          "output_type": "stream",
          "text": [
            "['mean radius' 'mean texture' 'mean perimeter' 'mean area'\n",
            " 'mean smoothness' 'mean compactness' 'mean concavity'\n",
            " 'mean concave points' 'mean symmetry' 'mean fractal dimension'\n",
            " 'radius error' 'texture error' 'perimeter error' 'area error'\n",
            " 'smoothness error' 'compactness error' 'concavity error'\n",
            " 'concave points error' 'symmetry error' 'fractal dimension error'\n",
            " 'worst radius' 'worst texture' 'worst perimeter' 'worst area'\n",
            " 'worst smoothness' 'worst compactness' 'worst concavity'\n",
            " 'worst concave points' 'worst symmetry' 'worst fractal dimension']\n"
          ],
          "name": "stdout"
        }
      ]
    },
    {
      "cell_type": "code",
      "metadata": {
        "id": "noUS1vbhL7Z4"
      },
      "source": [
        "# You can add your own code here to better understand the dataset"
      ],
      "execution_count": 53,
      "outputs": []
    },
    {
      "cell_type": "markdown",
      "metadata": {
        "id": "nLAQQNX5L7Z4"
      },
      "source": [
        "\n",
        " Before writing the gradient ascent code, first write some helpful functions"
      ]
    },
    {
      "cell_type": "markdown",
      "metadata": {
        "id": "2Osp129iL7Z4"
      },
      "source": [
        "\n",
        " \n",
        "### Sigmoid($z$)\n",
        "The first function you will write is sigmoid($z$)\n",
        "\n",
        "sigmoid($z$) takes as input a column vector of real numbers, $z^T = [z_1, z_2, ..., z_{N'}]$, where $N'$ is the number of  examples\n",
        "\n",
        "It should produce as output a column vector $\\left[\\frac{1}{1+e^{-z_1}},\\frac{1}{1+e^{-z_2}},...,\\frac{1}{1+e^{-z_{N'}}}\\right]^T$"
      ]
    },
    {
      "cell_type": "code",
      "metadata": {
        "id": "URCbIW8sL7Z4"
      },
      "source": [
        "# Write the sigmoid function\n",
        "def sigmoid(z):\n",
        "  val = 1/(1+np.exp(-z))\n",
        "  return val"
      ],
      "execution_count": 54,
      "outputs": []
    },
    {
      "cell_type": "markdown",
      "metadata": {
        "id": "aAqSmN9JL7Z4"
      },
      "source": [
        "### Initializing ${\\bf w}$\n",
        "For testing the next functions, we create a coefficient vector, ${\\bf w}$.\n",
        "We will initialize the coeffients to be $0$, i.e. ${\\bf w}^T = [0,0,\\ldots ,0]$ (We could have initialized ${\\bf w}$ to any values.)"
      ]
    },
    {
      "cell_type": "code",
      "metadata": {
        "colab": {
          "base_uri": "https://localhost:8080/"
        },
        "id": "1XB51Cj2L7Z4",
        "outputId": "6ba10bc2-c7fe-42bd-e567-6b9502ac91f4"
      },
      "source": [
        "# Initialize w using np.zeros()\n",
        "\n",
        "w = np.zeros(X_train.shape[1])\n",
        "\n",
        "w.shape\n"
      ],
      "execution_count": 55,
      "outputs": [
        {
          "output_type": "execute_result",
          "data": {
            "text/plain": [
              "(31,)"
            ]
          },
          "metadata": {
            "tags": []
          },
          "execution_count": 55
        }
      ]
    },
    {
      "cell_type": "markdown",
      "metadata": {
        "id": "VQhrh9vBL7Z5"
      },
      "source": [
        "### Our hypothesis, $h({\\bf x})$\n",
        "The next  function to write is our hypothesis function. \n",
        "\n",
        "For example if our design matrix $X$ consists of single example $X=[1,x_1,x_2,\\ldots,x_d]$ and  weights ${\\bf w}^T=[w_0,w_2,\\ldots, w_d]$, it returns $h({\\bf x})=\\frac{1}{1+e^{-\\left({w_{0}\\cdot 1 +w_1\\cdot x_1+\\cdots w_d\\cdot x_d}\\right)}}$\n",
        "\n",
        "If given a  matrix consisting of $N'$ examples \n",
        "$X=\\left[\\begin{matrix}\n",
        "1& x^{(1)}_1& x^{(1)}_2 &\\ldots& x^{(1)}_d\\\\\n",
        "1& x^{(2)}_1& x^{(2)}_2 &\\ldots& x^{(2)}_d\\\\\n",
        "\\vdots & \\vdots &\\vdots & & \\vdots \\\\\n",
        "1& x^{(N')}_1& x^{(N')}_2 &\\ldots& x^{(N')}_d\\\\\n",
        "\\end{matrix}\\right]$\n",
        "and  weights ${\\bf w}^T=[w_0,w_2,\\ldots, w_d]$, the function returns a column vector\n",
        "$[h({\\bf x}^{(1)}),h({\\bf x}^{(2)},\\ldots, h({\\bf x}^{(N')}]^T$"
      ]
    },
    {
      "cell_type": "code",
      "metadata": {
        "id": "bkOzzUT1L7Z5"
      },
      "source": [
        "# Predict the probability that a patient has cancer \n",
        "# Write the hypothesis function \n",
        "def hypothesis(X , w):\n",
        "  z = np.dot(X,w)\n",
        "  val = sigmoid(z)\n",
        "  return val\n"
      ],
      "execution_count": 56,
      "outputs": []
    },
    {
      "cell_type": "markdown",
      "metadata": {
        "id": "0v6UlR0DL7Z9"
      },
      "source": [
        "### Log-Likelihood Function.\n",
        "Write the code to calculate the log likelihood function $\\ell({\\bf w})=\n",
        "\\sum_{i=1}^{N'}y^{(i)}\\ln(h({\\bf x}^{(i)})) +(1- y^{(i)})\\ln(1-h({\\bf x}^{(i)}))$\n",
        "\n",
        "The input is a matrix consisting of $N'$ examples $X=\\left[\\begin{matrix}\n",
        "1& x^{(1)}_1& x^{(1)}_2 &\\ldots& x^{(1)}_d\\\\\n",
        "1& x^{(2)}_1& x^{(2)}_2 &\\ldots& x^{(2)}_d\\\\\n",
        "\\vdots & \\vdots &\\vdots & & \\vdots \\\\\n",
        "1& x^{(N')}_1& x^{(N')}_2 &\\ldots& x^{(N')}_d\\\\\n",
        "\\end{matrix}\\right]$\n",
        "and a column vector ${\\bf y}^T=[y^{(1)},y^{(2)},\\dots,y^{(N')}]$ of labels for $X$.\n",
        "\n",
        "The output is $\\ell({\\bf w})$"
      ]
    },
    {
      "cell_type": "code",
      "metadata": {
        "colab": {
          "base_uri": "https://localhost:8080/"
        },
        "id": "MMYRBy6ZL7Z-",
        "outputId": "8f994777-adcf-42ad-81b3-de94f55a5c28"
      },
      "source": [
        "# Write the log likelihood function \n",
        "def log_likelihood(X , y , w ):\n",
        "  L_w = np.sum((y*np.log(hypothesis(X,w))) + ((1-y)*np.log(1-hypothesis(X,w))))\n",
        "  return L_w\n",
        "\n",
        "print(w.shape)"
      ],
      "execution_count": 57,
      "outputs": [
        {
          "output_type": "stream",
          "text": [
            "(31,)\n"
          ],
          "name": "stdout"
        }
      ]
    },
    {
      "cell_type": "markdown",
      "metadata": {
        "id": "olFzny3PL7Z-"
      },
      "source": [
        "# Gradient Ascent\n",
        "Now write the code to perform gradient ascent.  You will use the update rule from the lecture notes."
      ]
    },
    {
      "cell_type": "code",
      "metadata": {
        "id": "HejvRNuVL7Z-"
      },
      "source": [
        "# TODO - Write the gradient ascent function \n",
        "\n",
        "\n",
        "\n",
        "# print(w.shape)\n",
        "def Logistic_Regression_Gradient_Ascent(X, y, learning_rate, num_iters):\n",
        "    # For every 100 iterations, store the log_likelihood for the current w\n",
        "    # Initializing log_likelihood to be an empty list  \n",
        "    log_likelihood_values = []\n",
        "    # Initialize w to be a zero vector of shape x_train.shape[1],1\n",
        "    w = np.zeros((X_train.shape[1],1))\n",
        "    # w = np.zeros((31,1))\n",
        "    # Initialize N to the number of training examples\n",
        "    N = X_train.shape[0]\n",
        "   \n",
        "    for i in range(num_iters):\n",
        "      # update the w using formula \n",
        "      h_X = hypothesis(X,w)\n",
        "      m = 1/N * np.matmul(X.transpose(), (y - h_X))\n",
        "      w = w + (m*learning_rate)\n",
        "      # append the log_likelihodd values to the list for every 100 iterations\n",
        "      # i = i+1\n",
        "      if(i%100==0):\n",
        "        log_likelihood_values.append(log_likelihood(X,y,w))\n",
        "      \n",
        "        \n",
        "    return w, log_likelihood_values\n",
        "    \n",
        "# Logistic_Regression_Gradient_Ascent(X_train, y_train, learning_rate, num_iters)"
      ],
      "execution_count": 58,
      "outputs": []
    },
    {
      "cell_type": "markdown",
      "metadata": {
        "id": "zi8o4Mx3L7Z-"
      },
      "source": [
        "### After completing the code above, run the following"
      ]
    },
    {
      "cell_type": "code",
      "metadata": {
        "colab": {
          "base_uri": "https://localhost:8080/"
        },
        "id": "K-bTX8IEL7Z_",
        "outputId": "47c8900f-6317-4384-b74b-0f92437a5926"
      },
      "source": [
        "# Set the learning_rate\n",
        "learning_rate = 0.5\n",
        "#threshold\n",
        "threshold = 0.5\n",
        "# Set the num_iters\n",
        "num_iters = 5000\n",
        "y_train = y_train.reshape(y_train.shape[0],1)\n",
        "# X_train = X_train.reshape(X_train.shape[0],31)\n",
        "\n",
        "\n",
        "# Run the Logistic_Regresion_Gradient_Ascent() and store the returned values\n",
        "w, log_likelihood_values = Logistic_Regression_Gradient_Ascent(X_train, y_train, learning_rate, num_iters)\n",
        "print(w)\n",
        "print(log_likelihood_values)"
      ],
      "execution_count": 59,
      "outputs": [
        {
          "output_type": "stream",
          "text": [
            "[[-1.44505967]\n",
            " [ 0.67149855]\n",
            " [ 0.17484065]\n",
            " [ 0.62275669]\n",
            " [ 0.17935684]\n",
            " [ 0.38449167]\n",
            " [ 2.16375699]\n",
            " [-2.33221554]\n",
            " [-2.07526642]\n",
            " [ 0.55878766]\n",
            " [-0.32002182]\n",
            " [-2.99516527]\n",
            " [ 0.18140869]\n",
            " [-1.66508898]\n",
            " [-2.6121377 ]\n",
            " [ 1.03390255]\n",
            " [ 0.76047738]\n",
            " [ 0.82413256]\n",
            " [ 0.13569754]\n",
            " [-0.5811701 ]\n",
            " [ 1.6989062 ]\n",
            " [-2.20251072]\n",
            " [-2.2756885 ]\n",
            " [-1.63846581]\n",
            " [-2.36077475]\n",
            " [-1.74475753]\n",
            " [ 0.85257931]\n",
            " [-1.91022117]\n",
            " [-1.83555381]\n",
            " [-0.65271077]\n",
            " [-1.75348027]]\n",
            "[-100.17374556622079, -31.8020784956936, -28.391443830671506, -26.745549378937707, -25.68493683136804, -24.90682037985577, -24.294819604841358, -23.792777436788853, -23.36884847842877, -23.002885890222796, -22.68133872311396, -22.394782431785448, -22.136485238227884, -21.90150248682932, -21.68609813595512, -21.48737525186184, -21.3030369400663, -21.131227776022428, -20.970425438953125, -20.819364428274078, -20.6769809038743, -20.542371857528053, -20.414764278315687, -20.29349145909901, -20.177974514773886, -20.067707774990808, -19.962247103968544, -19.861200463328796, -19.76422021563541, -19.67099679425429, -19.581253456761473, -19.494741905741137, -19.411238609921615, -19.330541695248606, -19.252468303161045, -19.176852334437335, -19.10354251323043, -19.032400718538106, -18.963300540249886, -18.896126024726605, -18.830770581086178, -18.767136024350442, -18.705131735624246, -18.644673922737603, -18.58568496744057, -18.528092847423153, -18.471830623231654, -18.416835981644297, -18.363050828310207, -18.310420923493368]\n"
          ],
          "name": "stdout"
        }
      ]
    },
    {
      "cell_type": "markdown",
      "metadata": {
        "id": "XKrb1sz6L7aA"
      },
      "source": [
        "# Plotting Likelihood v/s Number of Iterations."
      ]
    },
    {
      "cell_type": "code",
      "metadata": {
        "colab": {
          "base_uri": "https://localhost:8080/",
          "height": 295
        },
        "id": "dwvPWP5JL7aA",
        "outputId": "02b86bb8-bfa8-464b-d8fa-72b8a7531f24"
      },
      "source": [
        "# Run this cell to plot Likelihood v/s Number of Iterations.\n",
        "def plot_ll_values():\n",
        "  iters = np.array(range(0,num_iters,100))\n",
        "  plt.plot(iters,log_likelihood_values,'.-',color='green')\n",
        "  plt.xlabel('Number of iterations')\n",
        "  plt.ylabel('Likelihood')\n",
        "  plt.title(\"Likelihood vs Number of Iterations.\")\n",
        "  plt.grid()\n",
        "plot_ll_values()"
      ],
      "execution_count": 60,
      "outputs": [
        {
          "output_type": "display_data",
          "data": {
            "image/png": "[encoded data removed]",
            "text/plain": [
              "<Figure size 432x288 with 1 Axes>"
            ]
          },
          "metadata": {
            "tags": [],
            "needs_background": "light"
          }
        }
      ]
    },
    {
      "cell_type": "markdown",
      "metadata": {
        "id": "qImafHlXL7aE"
      },
      "source": [
        "#  Evaluating your model"
      ]
    },
    {
      "cell_type": "code",
      "metadata": {
        "id": "ESVg2c7UL7aF"
      },
      "source": [
        "# use hypothesis(...) to predict.\n",
        "def pred(w):\n",
        "  pred_1 = hypothesis(X_test,w)\n",
        "  pred_2 = pred_1.reshape((pred_1.shape[0]))\n",
        "  after_threshold = (pred_2 >= threshold).astype(int)\n",
        "\n",
        "pred(w)"
      ],
      "execution_count": 61,
      "outputs": []
    },
    {
      "cell_type": "code",
      "metadata": {
        "id": "-DIEKBP7L7aF"
      },
      "source": [
        "def confusion_matrix(y_true,y_pred):\n",
        "  TP=0\n",
        "  FP=0\n",
        "  FN=0\n",
        "  TN=0\n",
        "  for i in range(y_test.shape[0]):\n",
        "      # count TP,FP,FN,FP\n",
        "      TP = sum((y_true==1)&(y_pred==1))\n",
        "      FP = sum((y_true==0)&(y_pred==1))\n",
        "      FN = sum((y_true==1)&(y_pred==0))\n",
        "      TN = sum((y_true==0)&(y_pred==0))\n",
        "      # i = i + 1\n",
        "          \n",
        "  # calculate precision, recall and f1\n",
        "  precision = TP/(TP + FP)\n",
        "  recall = TP/(TP + FN)\n",
        "  f1 = (2*precision*recall) / (precision + recall)\n",
        "\n",
        "\n",
        "  print(\"Precision: \",precision)\n",
        "  print(\"Recall: \",recall)\n",
        "  print(\"F1: \",f1)\n",
        "  print(\"Confusion Matrix: \")\n",
        "  print(\"TP: \",TP,\" FN: \",FN,\" FP: \",FP,\" TN: \",TN)"
      ],
      "execution_count": 62,
      "outputs": []
    },
    {
      "cell_type": "code",
      "metadata": {
        "colab": {
          "base_uri": "https://localhost:8080/"
        },
        "id": "DPN1CK8XL7aF",
        "outputId": "f36dbbca-2356-440b-c3e0-3ccfc1021815"
      },
      "source": [
        "confusion_matrix(y_test,after_threshold)"
      ],
      "execution_count": 63,
      "outputs": [
        {
          "output_type": "stream",
          "text": [
            "Precision:  0.968421052631579\n",
            "Recall:  0.989247311827957\n",
            "F1:  0.9787234042553192\n",
            "Confusion Matrix: \n",
            "TP:  92  FN:  1  FP:  3  TN:  47\n"
          ],
          "name": "stdout"
        }
      ]
    },
    {
      "cell_type": "code",
      "metadata": {
        "colab": {
          "base_uri": "https://localhost:8080/",
          "height": 397
        },
        "id": "NYyoSgSdI3l4",
        "outputId": "3e1da499-347b-4292-d57e-b872a8f7fcc4"
      },
      "source": [
        "#Using the test set as a validation set and trying differet setting of the hyperparameters\n",
        "learning_rate = 0.001\n",
        "threshold = 0.5\n",
        "num_iters = 5000\n",
        "y_train = y_train.reshape(y_train.shape[0],1)\n",
        "w, log_likelihood_values = Logistic_Regression_Gradient_Ascent(X_train, y_train, learning_rate, num_iters)\n",
        "\n",
        "pred(w)\n",
        "confusion_matrix(y_test,after_threshold)\n",
        "print(\"/n\")\n",
        "plot_ll_values()\n",
        "\n"
      ],
      "execution_count": 68,
      "outputs": [
        {
          "output_type": "stream",
          "text": [
            "Precision:  0.968421052631579\n",
            "Recall:  0.989247311827957\n",
            "F1:  0.9787234042553192\n",
            "Confusion Matrix: \n",
            "TP:  92  FN:  1  FP:  3  TN:  47\n",
            "/n\n"
          ],
          "name": "stdout"
        },
        {
          "output_type": "display_data",
          "data": {
            "image/png": "[encoded data removed]",
            "text/plain": [
              "<Figure size 432x288 with 1 Axes>"
            ]
          },
          "metadata": {
            "tags": [],
            "needs_background": "light"
          }
        }
      ]
    },
    {
      "cell_type": "code",
      "metadata": {
        "colab": {
          "base_uri": "https://localhost:8080/",
          "height": 397
        },
        "id": "Qepp664zMCVG",
        "outputId": "d336c34f-5726-491a-cffc-848ff7f3f970"
      },
      "source": [
        "#Using the test set as a validation set and trying differet setting of the hyperparameters\n",
        "learning_rate = 0.002\n",
        "threshold = 0.5\n",
        "num_iters = 5000\n",
        "y_train = y_train.reshape(y_train.shape[0],1)\n",
        "w, log_likelihood_values = Logistic_Regression_Gradient_Ascent(X_train, y_train, learning_rate, num_iters)\n",
        "\n",
        "pred(w)\n",
        "confusion_matrix(y_test,after_threshold)\n",
        "print(\"/n\")\n",
        "plot_ll_values()"
      ],
      "execution_count": 69,
      "outputs": [
        {
          "output_type": "stream",
          "text": [
            "Precision:  0.968421052631579\n",
            "Recall:  0.989247311827957\n",
            "F1:  0.9787234042553192\n",
            "Confusion Matrix: \n",
            "TP:  92  FN:  1  FP:  3  TN:  47\n",
            "/n\n"
          ],
          "name": "stdout"
        },
        {
          "output_type": "display_data",
          "data": {
            "image/png": "[encoded data removed]",
            "text/plain": [
              "<Figure size 432x288 with 1 Axes>"
            ]
          },
          "metadata": {
            "tags": [],
            "needs_background": "light"
          }
        }
      ]
    }
  ]
}