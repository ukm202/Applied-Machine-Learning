{
 "cells": [
  {
   "cell_type": "code",
   "execution_count": 1,
   "metadata": {},
   "outputs": [],
   "source": [
    "import matplotlib.pyplot as plt\n",
    "import seaborn as sns; sns.set()  # for plot styling\n",
    "import numpy as np\n",
    "from sklearn.datasets.samples_generator import make_blobs\n",
    "from sklearn.cluster import KMeans\n",
    "from sklearn.metrics import pairwise_distances_argmin"
   ]
  },
  {
   "cell_type": "code",
   "execution_count": 2,
   "metadata": {},
   "outputs": [],
   "source": [
    "# manually generate dataset\n",
    "\n",
    "# use the make_blobs() function with n_samples=300,centers=4,cluster_std=0.6 and random_state=0\n",
    "# store the return value to X and y_true\n",
    "# plot the dataset using plt.scatter()"
   ]
  },
  {
   "cell_type": "code",
   "execution_count": 3,
   "metadata": {},
   "outputs": [],
   "source": [
    "# use sklearn api to visualize the clustering result.\n",
    "\n",
    "# first create the Kmeans obejct \n",
    "# then fit the data\n",
    "# finally, make prediction"
   ]
  },
  {
   "cell_type": "code",
   "execution_count": 4,
   "metadata": {},
   "outputs": [],
   "source": [
    "# visualize the clustering result\n",
    "\n",
    "# using the plt.scatter() with x=input data, y=data label, s=50 and set colormap to viridis\n",
    "\n",
    "# sotre the centers to a variable using kmeans.cluster_centers_\n",
    "# plot the center points using the plt.scatter() "
   ]
  },
  {
   "cell_type": "code",
   "execution_count": 5,
   "metadata": {},
   "outputs": [],
   "source": [
    "# def find_clusters(X, n_clusters, rseed=2):\n",
    "    # 1. Randomly choose clusters\n",
    "#     using np.random.RandomState first to set the seed and store it to a variable r\n",
    "#     using r.permutation(data shape) to choose first k data point index as initial center.\n",
    "#     store the center to a list.\n",
    "#     repeat until convergence:\n",
    "#         Assign labels based on closest center using pairwise_distances_argmin()\n",
    "#         Find new centers from means of points: \n",
    "#             Update centroid of each cluster to be the average(mean) of examples assigned to cluster k\n",
    "#         check for convergence:\n",
    "#             convergence if old center is new center\n",
    "#     return the centers and labels\n",
    "\n",
    "# fit our function to the data set with the starting point rseed=2.\n",
    "# plot the figures"
   ]
  },
  {
   "cell_type": "code",
   "execution_count": 6,
   "metadata": {},
   "outputs": [],
   "source": [
    "# fit our function to the data set with the starting point rseed=0.\n",
    "# plot the figure"
   ]
  },
  {
   "cell_type": "code",
   "execution_count": 7,
   "metadata": {},
   "outputs": [],
   "source": [
    "# fit our function to the data set with the starting point rseed=2 k=6.\n",
    "# plot the figure"
   ]
  },
  {
   "cell_type": "code",
   "execution_count": 8,
   "metadata": {},
   "outputs": [],
   "source": [
    "# def eucl_dist(a, b, axis=1):\n",
    "#     def the function that calculate the l2 distance\n",
    "\n",
    "# def the init function for kmean++:\n",
    "# \n",
    "# def init_center(k,X,rseed):\n",
    "#     create a empty list store centers \n",
    "#     random choose a center:\n",
    "#         random choose a index:\n",
    "#         using np.random.RandomState first to set the seed and store it to a variable r\n",
    "#         using r.permutation(data shape) to choose first data point index as initial center.\n",
    "#     append this center to the center list\n",
    "#     while the length of the list less than k:\n",
    "#         calculate dj for all data point: dj=min(||x^j-c_k||) whiere dj store the distance to the cloest center\n",
    "#         calculate pj: pj=dj^2/sum_all(d^2) for all data point\n",
    "#         random choose j using the probability:\n",
    "#             using np.random.choice()\n",
    "#         set the new center to be x^j\n",
    "#         append the new center to center list\n",
    "#     return all centers\n"
   ]
  },
  {
   "cell_type": "code",
   "execution_count": 9,
   "metadata": {},
   "outputs": [],
   "source": [
    "# def the kmean++:\n",
    "# def kmpp(X, n_clusters):\n",
    "#     first init centers\n",
    "#     then, run the k-means with the initialized centers."
   ]
  },
  {
   "cell_type": "code",
   "execution_count": 10,
   "metadata": {},
   "outputs": [],
   "source": [
    "# fit our kmean++ function to the data set with rseed=2.\n",
    "# plot the figure"
   ]
  },
  {
   "cell_type": "code",
   "execution_count": 11,
   "metadata": {},
   "outputs": [],
   "source": [
    "# fit our kmean++ function to the data set with rseed=0.\n",
    "# plot the figure"
   ]
  },
  {
   "cell_type": "code",
   "execution_count": null,
   "metadata": {},
   "outputs": [],
   "source": []
  },
  {
   "cell_type": "code",
   "execution_count": null,
   "metadata": {},
   "outputs": [],
   "source": []
  }
 ],
 "metadata": {
  "kernelspec": {
   "display_name": "Python 3",
   "language": "python",
   "name": "python3"
  },
  "language_info": {
   "codemirror_mode": {
    "name": "ipython",
    "version": 3
   },
   "file_extension": ".py",
   "mimetype": "text/x-python",
   "name": "python",
   "nbconvert_exporter": "python",
   "pygments_lexer": "ipython3",
   "version": "3.7.6"
  }
 },
 "nbformat": 4,
 "nbformat_minor": 2
}
