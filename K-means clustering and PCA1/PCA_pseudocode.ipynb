{
 "cells": [
  {
   "cell_type": "markdown",
   "metadata": {},
   "source": [
    "## Task 1: Users to Movies\n",
    "\n",
    "\n",
    "The following example is from from http://web.stanford.edu/class/cs246/slides/06-dim_red.pdf\n",
    "\n",
    "Consider the following data matrix, $X$, \n",
    "\n",
    "<img src=\"img.png\" height=\"300\" width=\"300\" align='center'>\n",
    "\n",
    "- Here, each row corresponds to the ratings submitted by a single user on a scale of $1$ to $5$ for each of the movies. If a user hasn't submitted a movie rating, then rating is then marked by a zero. \n",
    "- By a visual inspection, we see that the movies are either **sci-fi** or **romance**\n",
    "- The individual movies that we start with can be considered 5 different dimensions, whereas when we group them into two genres (sci-fi or romance), these may be seen as a compressed representation of our data.\n",
    "- So the natural question is, can we it possible to gain compressed representation of our data matrix to highlight this distinction in our data?\n"
   ]
  },
  {
   "cell_type": "code",
   "execution_count": 2,
   "metadata": {},
   "outputs": [],
   "source": [
    "# Import necessary libs:\n",
    "\n",
    "# 1. import plt from matplotlib\n",
    "# 2. import Axes3D from mpl_toolkits.mplot3d\n",
    "# 3. import proj3d from mpl_toolkits.mplot3d\n",
    "# 4. import FancyArrowPatch from matplotlib.patches"
   ]
  },
  {
   "cell_type": "code",
   "execution_count": 2,
   "metadata": {},
   "outputs": [],
   "source": [
    "# Create the dataset using the np.array() with the data provided above\n",
    "X = np.array([[1, 1, 1, 0, 0],\n",
    "              [3, 3, 3, 0, 0],\n",
    "              [4, 4, 4, 0, 0],\n",
    "              [5, 5, 5, 0, 0],\n",
    "              [0, 2, 0, 4, 4],\n",
    "              [0, 0, 0, 5, 5],\n",
    "              [0, 1, 0, 2, 2]])\n",
    "# Store the number of users for further usages.\n",
    "# Store the number of movies for further usages.\n"
   ]
  },
  {
   "cell_type": "code",
   "execution_count": 3,
   "metadata": {},
   "outputs": [],
   "source": [
    "# Plot the data set:\n",
    "\n",
    "# 1. Create three arrays: users, movie, and reviews. to represent the data matrix\n",
    "#     that is users[0], movie[0] and reviews[0] represent the review of the first user on the first movie.\n",
    "# tips: use np.array() and flatten() function.\n",
    "\n",
    "# 2. Set the figure size to (13,13) by using the function plt.figure().\n",
    "\n",
    "# 3. Add the subplot that point the 1*1 grid by using the function add_subplot() on the figure object.\n",
    "#     set the first positional arguments to 111 and projection to 3d.\n",
    "\n",
    "# 4. Set the font size of the legend to be 10 by using plt.rcParams with 'legend.fontsize' as the key.\n",
    "\n",
    "# 5. Plot the dataset using plot() for the Sci-fi movie and set x to be the user list, y to be the movie list and z to be the reviews\n",
    "#     moreover, set resonalbe color and label legend.\n",
    "\n",
    "# 6. Plot the dataset using plot() for the Romance follow the pervious instruction.\n",
    "\n",
    "# 7. Set the legend to a proper position using ax.legend(loc=?)\n",
    "\n",
    "# 8. Set label for the x and y axis with proper front size using plt.xlabel(...)\n",
    "\n",
    "# 9. Set the title of this fig using plt.title()\n",
    "\n",
    "# 10. Set the ticks for x axis and y aixs by using plt.xticks()/yticks()\n",
    "\n",
    "# 11. plot and present the fig using plt.show()\n"
   ]
  },
  {
   "cell_type": "code",
   "execution_count": 4,
   "metadata": {},
   "outputs": [],
   "source": [
    "# Data Preprocessing:\n",
    "\n",
    "# 1. Calculate the mean of the data set\n",
    "# 2. Subtract the mean from the data set\n",
    "# 3. Store the new centered data set"
   ]
  },
  {
   "cell_type": "markdown",
   "metadata": {},
   "source": [
    "## Solution1: Implementing PCA using Singular Value Decomposition (SVD)\n",
    "\n",
    "We start with the simplest and most straightforward strategy first - **Singular Value Decomposition**. <br>\n",
    "\n",
    "From our Matrix theory, we know that ever matrix out there can we decomposed into a multiplication of 3 matrices (image is from Tim Roughgarden):\n",
    "\n",
    "$$ X = U S  V^T$$\n",
    "\n",
    "In class we proved that we can use the SVD to factorize $X^TX=(USV^T)^T(USV^T)=VS^2V^T$.\n",
    "\n",
    "The principal components of the matrix $A=X^TX$, lie in the rows of matrix $V^T$. Therefore, by selecting the first $k$ columns of $V$, we end up selecting $v_1, v_2, ..., v_k$ vectors.\n"
   ]
  },
  {
   "cell_type": "code",
   "execution_count": 5,
   "metadata": {},
   "outputs": [],
   "source": [
    "# Calculate the U, S, V^T:\n",
    "# 1. Use the singular value decomposition from numpy.\n",
    "# 2. np.linalg.svd()\n",
    "# 3. Store the u,s,v^T values"
   ]
  },
  {
   "cell_type": "code",
   "execution_count": 6,
   "metadata": {},
   "outputs": [],
   "source": [
    "print(\"U.shape, S.shape, V.T.shape ->\", u.shape, s.shape, vT.shape, end=\"\\n\\n\")\n",
    "\n",
    "print(\"U =\",np.around(, decimals=3), sep=\"\\n\", end=\"\\n\\n\")\n",
    "\n",
    "print(\"S =\",np.around(, decimals=3), sep=\"\\n\", end=\"\\n\\n\")\n",
    "\n",
    "print(\"V.T =\",np.around(, decimals=3), sep=\"\\n\", end=\"\\n\\n\")"
   ]
  },
  {
   "cell_type": "code",
   "execution_count": 7,
   "metadata": {},
   "outputs": [],
   "source": [
    "# plot the singlar values for the  D  matrix.\n",
    "# 1. Calculate the D matrix using s: D is s*s\n",
    "# 2. Set the fig size to (15,5)\n",
    "# 3. Add the line chart using plt.plot( ?? ,'bo-')\n",
    "# 3. Add proper tital, ticks, axis labels\n"
   ]
  },
  {
   "cell_type": "code",
   "execution_count": 8,
   "metadata": {},
   "outputs": [],
   "source": [
    "# Obtaining our compressed data representation:\n",
    "# 1. Determine at least k singular values are needed to represent the data set from the fig above\n",
    "# 2. Obtain the first k of v^T and store it\n",
    "# 3. Calculate the compressed data using np.matmul(), X and stored first k of v^T\n",
    "# 4. Print the compressed value of X"
   ]
  },
  {
   "cell_type": "markdown",
   "metadata": {},
   "source": [
    "Let's visualize what just happened."
   ]
  },
  {
   "cell_type": "code",
   "execution_count": 9,
   "metadata": {},
   "outputs": [],
   "source": [
    "# Visualize what just happened:\n",
    "# 1. Set the fig size to (15,5)\n",
    "# 2. Create propor title, axis and legend\n",
    "# 3. Plot the data\n"
   ]
  },
  {
   "cell_type": "markdown",
   "metadata": {},
   "source": [
    "## Solution2: Directly computing  V and D \n",
    "\n",
    "Now we compute $V$ (aka as the eigenvectors), and the diagonal elements of $D$ (aka eigenvalues) from $A=X^TX=V D V^T$\n",
    "\n",
    "The covariance matrix data matrix, $X$, can be computed as  $\\frac{1}{N}X^TX$. <br>\n",
    "If $X$ is our data matrix comprising of $d$ features. Then $X^TX$ is a $(d \\times d)$ symmetrix matrix wherein each entry at location **ij** corresponds to the scalar projection of **feature i** with **feature j**."
   ]
  },
  {
   "cell_type": "code",
   "execution_count": 10,
   "metadata": {},
   "outputs": [],
   "source": [
    "# Alternative implementation：\n",
    "# Directly computing V and D from X and X^T\n",
    "# 1. Comput XTX using np.matmul() and store it.\n",
    "# 2. Apply np.linalg.eig() to clculate the eigen vectors and values"
   ]
  },
  {
   "cell_type": "code",
   "execution_count": 13,
   "metadata": {},
   "outputs": [],
   "source": [
    "print(\"V (Eigen-vectors) = \")\n",
    "print(np.around(, decimals=3))\n",
    "print()\n",
    "print(\"diagonal elements of D (Eigen-values) = \")\n",
    "print(np.around(, decimals=3)) \n",
    "print()\n",
    "print(\"sqrt(Eigen-values) = \")\n",
    "print(np.around(np.sqrt(np.abs()), decimals=3))"
   ]
  },
  {
   "cell_type": "markdown",
   "metadata": {},
   "source": [
    "Notice the following:\n",
    "1. That the **square-root of the eigen-values** of the covariance matrix $X^TX$ correspond exactly the the **singular values** of the data matrix $X$.\n",
    "2. The **eigen-vectors** of $X^TX$ are exactly the same as the column vectors in the matrix $V$ when we performed SVD on $X$.\n",
    "\n",
    "Therefore, the same Princpal components of our data matrix $X$, may be extracted via SVD or from $X$'s convariance matrix.\n"
   ]
  },
  {
   "cell_type": "markdown",
   "metadata": {},
   "source": [
    "## Task 2: Human Faces \n",
    "\n",
    "Each image is a 62x47 pixel array. The images are read into a matrix called fea. Each row of the matrix fea represents one image (example). The features (columns) are the pixel values. Each example is represented by a vector of real numbers of length 2914, listing the pixels from left to right, row by row, from top to bottom."
   ]
  },
  {
   "cell_type": "code",
   "execution_count": null,
   "metadata": {},
   "outputs": [],
   "source": [
    "# Import libs:\n",
    "# 1. numpy\n",
    "# 2. matplotlib and plt\n",
    "# 3. pandas\n",
    "# 4. fetch_lfw_people from sklearn.datasets"
   ]
  },
  {
   "cell_type": "code",
   "execution_count": null,
   "metadata": {},
   "outputs": [],
   "source": [
    "# Data set:\n",
    "# 1. Load the dataset using fetch_lfw_people() with min_faces_per_person setted to be 70\n",
    "#     detail of min_faces_per_person please refer to https://scikit-learn.org/stable/modules/generated/sklearn.datasets.fetch_lfw_people.html\n",
    "# 2. Store the number of images and its hight, width using lfw_people.images.shape\n",
    "# 3. Calculate number of pixels\n",
    "# 4. Store the pixel values using lfw_people.data\n"
   ]
  },
  {
   "cell_type": "code",
   "execution_count": null,
   "metadata": {},
   "outputs": [],
   "source": [
    "def plt_face(x):\n",
    "    global h,w\n",
    "    plt.imshow(x.reshape((h, w)), cmap=plt.cm.gray)\n",
    "    plt.xticks([])"
   ]
  },
  {
   "cell_type": "code",
   "execution_count": 14,
   "metadata": {},
   "outputs": [],
   "source": [
    "\n",
    "# Use the function we provided above, plot some faces:\n",
    "# 1. Define the fig size to (10,20)\n",
    "# 2. Use plt_face()\n",
    "# 3. plt.show()"
   ]
  },
  {
   "cell_type": "code",
   "execution_count": 16,
   "metadata": {},
   "outputs": [],
   "source": [
    "# Find the Mean picture:\n",
    "# 1. Calculate the mean of the image data\n",
    "# 2. Remove the mean from all the image\n",
    "# 3. plot the face use plt_face()"
   ]
  },
  {
   "cell_type": "code",
   "execution_count": 17,
   "metadata": {},
   "outputs": [],
   "source": [
    "# Find eig vec and eig value:\n",
    "# 1. Calculate the covariance metric of the zero_mean data\n",
    "# 2. Use the np.linalg.eig() to compute eig value and eig vectors\n",
    "# 3. Find the top5 features\n",
    "# 4. Calculate the new value based on the top5 feature.\n",
    "# 5. Store the new value."
   ]
  },
  {
   "cell_type": "code",
   "execution_count": 18,
   "metadata": {},
   "outputs": [],
   "source": [
    "print(\"Top 5 Vector:\")\n",
    "print()\n",
    "print(eigvec.real.tolist())\n",
    "print()\n",
    "print(\"Top 5 EigVal:\")\n",
    "print()\n",
    "print(eigval.real)\n",
    "print()\n",
    "print(\"Associateed 5 attributes in fourth image\")\n",
    "print(\"Indexing by\",top5)\n",
    "print()\n",
    "print(fea[3][top5])"
   ]
  },
  {
   "cell_type": "code",
   "execution_count": 19,
   "metadata": {
    "scrolled": true
   },
   "outputs": [],
   "source": [
    "print(\"Top 5 EigVal:\")\n",
    "print()\n",
    "print(eigval.real)"
   ]
  },
  {
   "cell_type": "code",
   "execution_count": null,
   "metadata": {},
   "outputs": [],
   "source": [
    "# prjection of fourth face to first 5 principle components"
   ]
  },
  {
   "cell_type": "code",
   "execution_count": 20,
   "metadata": {},
   "outputs": [],
   "source": [
    "print(\"The proejction of fourth image\")\n",
    "print(??)"
   ]
  },
  {
   "cell_type": "code",
   "execution_count": 21,
   "metadata": {},
   "outputs": [],
   "source": [
    "# project back to the image space where d=5\n",
    "# X’= X_pca * VT  + X_mean \n"
   ]
  },
  {
   "cell_type": "code",
   "execution_count": 22,
   "metadata": {},
   "outputs": [],
   "source": [
    "# project back to images where d=50\n",
    "# 1. Find top 50 eig vec and eig val\n",
    "# 2. Store the top 50 eig vec\n",
    "# 3. Store the top 50 eig val\n",
    "# 4. compute the newfeature using top50 eig vec and eig val.\n",
    "# 5. plot the feace"
   ]
  },
  {
   "cell_type": "code",
   "execution_count": null,
   "metadata": {},
   "outputs": [],
   "source": []
  }
 ],
 "metadata": {
  "kernelspec": {
   "display_name": "Python 3",
   "language": "python",
   "name": "python3"
  },
  "language_info": {
   "codemirror_mode": {
    "name": "ipython",
    "version": 3
   },
   "file_extension": ".py",
   "mimetype": "text/x-python",
   "name": "python",
   "nbconvert_exporter": "python",
   "pygments_lexer": "ipython3",
   "version": "3.8.0"
  }
 },
 "nbformat": 4,
 "nbformat_minor": 2
}
